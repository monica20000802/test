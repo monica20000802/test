{
 "cells": [
  {
   "cell_type": "markdown",
   "metadata": {},
   "source": [
    "# 載入套件及資料集"
   ]
  },
  {
   "cell_type": "code",
   "execution_count": 36,
   "metadata": {},
   "outputs": [],
   "source": [
    "%matplotlib inline\n",
    "\n",
    "import numpy as np\n",
    "import matplotlib.pyplot as plt\n",
    "import pandas as pd\n",
    "\n",
    "# Layers for FNN\n",
    "from tensorflow.keras.models import Sequential\n",
    "from tensorflow.keras.layers import Dense\n",
    "from tensorflow.keras.layers import Flatten\n",
    "\n",
    "# Layers for CNN\n",
    "from tensorflow.keras.layers import Conv2D, MaxPool2D, GlobalAveragePooling2D\n",
    "from tensorflow.keras.optimizers import SGD, Adam\n",
    "\n",
    "# For data preprocessing\n",
    "from tensorflow.keras.datasets import fashion_mnist\n",
    "from tensorflow.keras.datasets import mnist\n",
    "from tensorflow.keras.utils import to_categorical"
   ]
  },
  {
   "cell_type": "markdown",
   "metadata": {},
   "source": [
    "# 資料前處理-使用fashion mnist資料集"
   ]
  },
  {
   "cell_type": "code",
   "execution_count": 37,
   "metadata": {},
   "outputs": [],
   "source": [
    "class_names = ['T-shirt/top', 'Trouser', 'Pullover', 'Dress', 'Coat', 'Sandal', 'Shirt', 'Sneaker', 'Bag', 'Ankle boot']"
   ]
  },
  {
   "cell_type": "code",
   "execution_count": 38,
   "metadata": {},
   "outputs": [],
   "source": [
    "(x_train, y_train), (x_test, y_test) = fashion_mnist.load_data()"
   ]
  },
  {
   "cell_type": "code",
   "execution_count": 39,
   "metadata": {},
   "outputs": [],
   "source": [
    "x_train = x_train.reshape(60000,28,28,1)/255\n",
    "x_test = x_test.reshape(10000,28,28,1)/255\n",
    "y_train = to_categorical(y_train, 10)\n",
    "y_test = to_categorical(y_test, 10)"
   ]
  },
  {
   "cell_type": "markdown",
   "metadata": {},
   "source": [
    "# 打造神經網路模型"
   ]
  },
  {
   "cell_type": "code",
   "execution_count": 40,
   "metadata": {},
   "outputs": [],
   "source": [
    "CNN_layers = [Conv2D(16, (3, 3), input_shape=(28, 28, 1), padding='same', activation='relu', name='Conv_1'),\n",
    "              MaxPool2D(),\n",
    "              Conv2D(32, (3, 3), padding='same', activation='relu', name='Conv_2'),\n",
    "              MaxPool2D(),\n",
    "              Conv2D(64, (3, 3), padding='same', activation='relu', name='Conv_3'),\n",
    "              GlobalAveragePooling2D()]\n",
    "\n",
    "FC_layers = [Dense(units=256, activation='relu'),\n",
    "             Dense(units=10, activation='softmax')]"
   ]
  },
  {
   "cell_type": "code",
   "execution_count": 41,
   "metadata": {},
   "outputs": [
    {
     "data": {
      "text/plain": [
       "[<tensorflow.python.keras.layers.convolutional.Conv2D at 0x13b9789d0>,\n",
       " <tensorflow.python.keras.layers.pooling.MaxPooling2D at 0x13cc1b950>,\n",
       " <tensorflow.python.keras.layers.convolutional.Conv2D at 0x13cc1bc10>,\n",
       " <tensorflow.python.keras.layers.pooling.MaxPooling2D at 0x13cc1bf90>,\n",
       " <tensorflow.python.keras.layers.convolutional.Conv2D at 0x13b979410>,\n",
       " <tensorflow.python.keras.layers.pooling.GlobalAveragePooling2D at 0x13b979950>,\n",
       " <tensorflow.python.keras.layers.core.Dense at 0x13b978c10>,\n",
       " <tensorflow.python.keras.layers.core.Dense at 0x13b979ed0>]"
      ]
     },
     "execution_count": 41,
     "metadata": {},
     "output_type": "execute_result"
    }
   ],
   "source": [
    "CNN_layers + FC_layers"
   ]
  },
  {
   "cell_type": "code",
   "execution_count": 42,
   "metadata": {},
   "outputs": [
    {
     "name": "stdout",
     "output_type": "stream",
     "text": [
      "Model: \"sequential_4\"\n",
      "_________________________________________________________________\n",
      "Layer (type)                 Output Shape              Param #   \n",
      "=================================================================\n",
      "Conv_1 (Conv2D)              (None, 28, 28, 16)        160       \n",
      "_________________________________________________________________\n",
      "max_pooling2d_8 (MaxPooling2 (None, 14, 14, 16)        0         \n",
      "_________________________________________________________________\n",
      "Conv_2 (Conv2D)              (None, 14, 14, 32)        4640      \n",
      "_________________________________________________________________\n",
      "max_pooling2d_9 (MaxPooling2 (None, 7, 7, 32)          0         \n",
      "_________________________________________________________________\n",
      "Conv_3 (Conv2D)              (None, 7, 7, 64)          18496     \n",
      "_________________________________________________________________\n",
      "global_average_pooling2d_4 ( (None, 64)                0         \n",
      "_________________________________________________________________\n",
      "dense_8 (Dense)              (None, 256)               16640     \n",
      "_________________________________________________________________\n",
      "dense_9 (Dense)              (None, 10)                2570      \n",
      "=================================================================\n",
      "Total params: 42,506\n",
      "Trainable params: 42,506\n",
      "Non-trainable params: 0\n",
      "_________________________________________________________________\n"
     ]
    }
   ],
   "source": [
    "model = Sequential(CNN_layers+FC_layers)\n",
    "model.summary()"
   ]
  },
  {
   "cell_type": "code",
   "execution_count": 43,
   "metadata": {},
   "outputs": [],
   "source": [
    "model.compile(loss='categorical_crossentropy', \n",
    "                optimizer=Adam(),\n",
    "                metrics=['categorical_accuracy'])"
   ]
  },
  {
   "cell_type": "code",
   "execution_count": 44,
   "metadata": {},
   "outputs": [
    {
     "name": "stdout",
     "output_type": "stream",
     "text": [
      "Train on 60000 samples, validate on 10000 samples\n",
      "Epoch 1/10\n",
      "60000/60000 [==============================] - 38s 635us/sample - loss: 1.0396 - categorical_accuracy: 0.6138 - val_loss: 0.7415 - val_categorical_accuracy: 0.7296\n",
      "Epoch 2/10\n",
      "60000/60000 [==============================] - 39s 649us/sample - loss: 0.6961 - categorical_accuracy: 0.7381 - val_loss: 0.6693 - val_categorical_accuracy: 0.7520\n",
      "Epoch 3/10\n",
      "60000/60000 [==============================] - 43s 721us/sample - loss: 0.6223 - categorical_accuracy: 0.7654 - val_loss: 0.6094 - val_categorical_accuracy: 0.7703\n",
      "Epoch 4/10\n",
      "60000/60000 [==============================] - 47s 783us/sample - loss: 0.5635 - categorical_accuracy: 0.7889 - val_loss: 0.5685 - val_categorical_accuracy: 0.7956\n",
      "Epoch 5/10\n",
      "60000/60000 [==============================] - 49s 818us/sample - loss: 0.5239 - categorical_accuracy: 0.8072 - val_loss: 0.5168 - val_categorical_accuracy: 0.8136\n",
      "Epoch 6/10\n",
      "60000/60000 [==============================] - 49s 819us/sample - loss: 0.4899 - categorical_accuracy: 0.8207 - val_loss: 0.5476 - val_categorical_accuracy: 0.7992\n",
      "Epoch 7/10\n",
      "60000/60000 [==============================] - 35s 584us/sample - loss: 0.4593 - categorical_accuracy: 0.8328 - val_loss: 0.4576 - val_categorical_accuracy: 0.8319\n",
      "Epoch 8/10\n",
      "60000/60000 [==============================] - 48s 803us/sample - loss: 0.4351 - categorical_accuracy: 0.8429 - val_loss: 0.4615 - val_categorical_accuracy: 0.8275\n",
      "Epoch 9/10\n",
      "60000/60000 [==============================] - 42s 698us/sample - loss: 0.4165 - categorical_accuracy: 0.8496 - val_loss: 0.4399 - val_categorical_accuracy: 0.8432\n",
      "Epoch 10/10\n",
      "60000/60000 [==============================] - 42s 693us/sample - loss: 0.3984 - categorical_accuracy: 0.8562 - val_loss: 0.4125 - val_categorical_accuracy: 0.8550\n"
     ]
    },
    {
     "data": {
      "text/plain": [
       "<tensorflow.python.keras.callbacks.History at 0x13bb98250>"
      ]
     },
     "execution_count": 44,
     "metadata": {},
     "output_type": "execute_result"
    }
   ],
   "source": [
    "model.fit(x_train, y_train, batch_size=128, epochs=10,validation_data=(x_test, y_test))"
   ]
  },
  {
   "cell_type": "code",
   "execution_count": 45,
   "metadata": {},
   "outputs": [
    {
     "name": "stdout",
     "output_type": "stream",
     "text": [
      "60000/60000 [==============================] - 13s 212us/sample - loss: 0.3791 - categorical_accuracy: 0.8656\n",
      "10000/10000 [==============================] - 2s 219us/sample - loss: 0.4125 - categorical_accuracy: 0.8550\n",
      "Train Accuracy: 86.56333088874817\n",
      "Test Accuracy: 85.50000190734863\n"
     ]
    }
   ],
   "source": [
    "score_train = model.evaluate(x_train, y_train)\n",
    "score_test = model.evaluate(x_test, y_test)\n",
    "\n",
    "print(f'Train Accuracy: {score_train[1]*100}')\n",
    "print(f'Test Accuracy: {score_test[1]*100}')"
   ]
  },
  {
   "cell_type": "markdown",
   "metadata": {},
   "source": [
    "# 以下做遷移學習：mnist資料集"
   ]
  },
  {
   "cell_type": "code",
   "execution_count": 46,
   "metadata": {},
   "outputs": [],
   "source": [
    "(u_train, v_train), (u_test, v_test) = mnist.load_data()"
   ]
  },
  {
   "cell_type": "code",
   "execution_count": 47,
   "metadata": {},
   "outputs": [],
   "source": [
    "u_train = u_train.reshape(60000,28,28,1)/255\n",
    "u_test = u_test.reshape(10000,28,28,1)/255\n",
    "v_train = to_categorical(v_train, 10)\n",
    "v_test = to_categorical(v_test, 10)"
   ]
  },
  {
   "cell_type": "code",
   "execution_count": 48,
   "metadata": {},
   "outputs": [],
   "source": [
    "FC_layers_2 = [Dense(units=54, activation='relu'),\n",
    "                   Dense(units=10, activation='softmax')]"
   ]
  },
  {
   "cell_type": "code",
   "execution_count": 49,
   "metadata": {},
   "outputs": [
    {
     "name": "stdout",
     "output_type": "stream",
     "text": [
      "Model: \"sequential_5\"\n",
      "_________________________________________________________________\n",
      "Layer (type)                 Output Shape              Param #   \n",
      "=================================================================\n",
      "Conv_1 (Conv2D)              (None, 28, 28, 16)        160       \n",
      "_________________________________________________________________\n",
      "max_pooling2d_8 (MaxPooling2 (None, 14, 14, 16)        0         \n",
      "_________________________________________________________________\n",
      "Conv_2 (Conv2D)              (None, 14, 14, 32)        4640      \n",
      "_________________________________________________________________\n",
      "max_pooling2d_9 (MaxPooling2 (None, 7, 7, 32)          0         \n",
      "_________________________________________________________________\n",
      "Conv_3 (Conv2D)              (None, 7, 7, 64)          18496     \n",
      "_________________________________________________________________\n",
      "global_average_pooling2d_4 ( (None, 64)                0         \n",
      "_________________________________________________________________\n",
      "dense_10 (Dense)             (None, 54)                3510      \n",
      "_________________________________________________________________\n",
      "dense_11 (Dense)             (None, 10)                550       \n",
      "=================================================================\n",
      "Total params: 27,356\n",
      "Trainable params: 27,356\n",
      "Non-trainable params: 0\n",
      "_________________________________________________________________\n"
     ]
    }
   ],
   "source": [
    "model_2 = Sequential(CNN_layers + FC_layers_2)\n",
    "model_2.summary()"
   ]
  },
  {
   "cell_type": "markdown",
   "metadata": {},
   "source": [
    "# Frozen:凍結借來的部分，只針對新建立的神經網路層訓練"
   ]
  },
  {
   "cell_type": "code",
   "execution_count": 50,
   "metadata": {},
   "outputs": [],
   "source": [
    "for layer in CNN_layers:\n",
    "    layer.trainable = False"
   ]
  },
  {
   "cell_type": "code",
   "execution_count": 51,
   "metadata": {},
   "outputs": [
    {
     "name": "stdout",
     "output_type": "stream",
     "text": [
      "Model: \"sequential_5\"\n",
      "_________________________________________________________________\n",
      "Layer (type)                 Output Shape              Param #   \n",
      "=================================================================\n",
      "Conv_1 (Conv2D)              (None, 28, 28, 16)        160       \n",
      "_________________________________________________________________\n",
      "max_pooling2d_8 (MaxPooling2 (None, 14, 14, 16)        0         \n",
      "_________________________________________________________________\n",
      "Conv_2 (Conv2D)              (None, 14, 14, 32)        4640      \n",
      "_________________________________________________________________\n",
      "max_pooling2d_9 (MaxPooling2 (None, 7, 7, 32)          0         \n",
      "_________________________________________________________________\n",
      "Conv_3 (Conv2D)              (None, 7, 7, 64)          18496     \n",
      "_________________________________________________________________\n",
      "global_average_pooling2d_4 ( (None, 64)                0         \n",
      "_________________________________________________________________\n",
      "dense_10 (Dense)             (None, 54)                3510      \n",
      "_________________________________________________________________\n",
      "dense_11 (Dense)             (None, 10)                550       \n",
      "=================================================================\n",
      "Total params: 27,356\n",
      "Trainable params: 4,060\n",
      "Non-trainable params: 23,296\n",
      "_________________________________________________________________\n"
     ]
    }
   ],
   "source": [
    "model_2.summary()"
   ]
  },
  {
   "cell_type": "code",
   "execution_count": 52,
   "metadata": {},
   "outputs": [],
   "source": [
    "model_2.compile(loss='categorical_crossentropy', \n",
    "                optimizer=Adam(),\n",
    "                metrics=['categorical_accuracy'])"
   ]
  },
  {
   "cell_type": "code",
   "execution_count": 54,
   "metadata": {},
   "outputs": [
    {
     "name": "stdout",
     "output_type": "stream",
     "text": [
      "Train on 60000 samples, validate on 10000 samples\n",
      "Epoch 1/10\n",
      "60000/60000 [==============================] - 12s 198us/sample - loss: 1.5858 - categorical_accuracy: 0.5134 - val_loss: 0.9978 - val_categorical_accuracy: 0.7391\n",
      "Epoch 2/10\n",
      "60000/60000 [==============================] - 11s 180us/sample - loss: 0.7867 - categorical_accuracy: 0.7925 - val_loss: 0.6197 - val_categorical_accuracy: 0.8242\n",
      "Epoch 3/10\n",
      "60000/60000 [==============================] - 14s 241us/sample - loss: 0.5558 - categorical_accuracy: 0.8444 - val_loss: 0.4716 - val_categorical_accuracy: 0.8691\n",
      "Epoch 4/10\n",
      "60000/60000 [==============================] - 12s 196us/sample - loss: 0.4574 - categorical_accuracy: 0.8679 - val_loss: 0.4080 - val_categorical_accuracy: 0.8848\n",
      "Epoch 5/10\n",
      "60000/60000 [==============================] - 12s 206us/sample - loss: 0.4034 - categorical_accuracy: 0.8814 - val_loss: 0.3660 - val_categorical_accuracy: 0.8959\n",
      "Epoch 6/10\n",
      "60000/60000 [==============================] - 12s 202us/sample - loss: 0.3656 - categorical_accuracy: 0.8914 - val_loss: 0.3339 - val_categorical_accuracy: 0.9023\n",
      "Epoch 7/10\n",
      "60000/60000 [==============================] - 14s 234us/sample - loss: 0.3401 - categorical_accuracy: 0.8992 - val_loss: 0.3144 - val_categorical_accuracy: 0.9091\n",
      "Epoch 8/10\n",
      "60000/60000 [==============================] - 14s 241us/sample - loss: 0.3190 - categorical_accuracy: 0.9042 - val_loss: 0.2954 - val_categorical_accuracy: 0.9150\n",
      "Epoch 9/10\n",
      "60000/60000 [==============================] - 13s 216us/sample - loss: 0.3006 - categorical_accuracy: 0.9092 - val_loss: 0.2829 - val_categorical_accuracy: 0.9158\n",
      "Epoch 10/10\n",
      "60000/60000 [==============================] - 12s 199us/sample - loss: 0.2882 - categorical_accuracy: 0.9132 - val_loss: 0.2795 - val_categorical_accuracy: 0.9152\n"
     ]
    },
    {
     "data": {
      "text/plain": [
       "<tensorflow.python.keras.callbacks.History at 0x13d60d710>"
      ]
     },
     "execution_count": 54,
     "metadata": {},
     "output_type": "execute_result"
    }
   ],
   "source": [
    "model_2.fit(u_train, v_train, batch_size=128, epochs=10,validation_data=(u_test, v_test))"
   ]
  },
  {
   "cell_type": "code",
   "execution_count": 57,
   "metadata": {},
   "outputs": [
    {
     "name": "stdout",
     "output_type": "stream",
     "text": [
      "60000/60000 [==============================] - 11s 184us/sample - loss: 0.2915 - categorical_accuracy: 0.9108\n",
      "10000/10000 [==============================] - 2s 229us/sample - loss: 0.2795 - categorical_accuracy: 0.9152\n",
      "Train Accuracy: 91.07999801635742\n",
      "Test Accuracy: 91.51999950408936\n"
     ]
    }
   ],
   "source": [
    "score_train = model_2.evaluate(u_train, v_train)\n",
    "score_test = model_2.evaluate(u_test, v_test)\n",
    "\n",
    "print(f'Train Accuracy: {score_train[1]*100}')\n",
    "print(f'Test Accuracy: {score_test[1]*100}')"
   ]
  },
  {
   "cell_type": "code",
   "execution_count": null,
   "metadata": {},
   "outputs": [],
   "source": []
  }
 ],
 "metadata": {
  "kernelspec": {
   "display_name": "Python 3",
   "language": "python",
   "name": "python3"
  },
  "language_info": {
   "codemirror_mode": {
    "name": "ipython",
    "version": 3
   },
   "file_extension": ".py",
   "mimetype": "text/x-python",
   "name": "python",
   "nbconvert_exporter": "python",
   "pygments_lexer": "ipython3",
   "version": "3.7.4"
  }
 },
 "nbformat": 4,
 "nbformat_minor": 2
}
