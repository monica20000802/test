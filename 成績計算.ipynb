{
 "cells": [
  {
   "attachments": {},
   "cell_type": "markdown",
   "metadata": {},
   "source": [
    " ### 題目：<br>\n",
    "數學老師王老師的班上有5位同學，考完期中考後，王老師需要幫忙，寫一個程式可以讓王老師依序輸入5位同學的期中考分數後，程式可以幫忙計算並印出全 班數學期中考的總平均分數！為了方便王老師檢查之前他所輸入的分數資料是否正確，請將所輸入的成績也依序印出來讓老師可以檢查! (記得要有每個成績的檢查機制)"
   ]
  },
  {
   "cell_type": "code",
   "execution_count": 3,
   "metadata": {},
   "outputs": [
    {
     "name": "stdout",
     "output_type": "stream",
     "text": [
      "請依序輸入5個正整數，每輸入完一個正整數後請按Enter，再接著輸入下一個:\n",
      "輸入第1個正整數:12\n",
      "剛剛輸入的成績是 12\n",
      "剛才輸入成績是否正確(正確請輸入1，錯誤請輸入任意字)1\n",
      "輸入第2個正整數:999\n",
      "格式錯誤，請重新輸入第2個正整數:46\n",
      "剛剛輸入的成績是 46\n",
      "剛才輸入成績是否正確(正確請輸入1，錯誤請輸入任意字)1\n",
      "輸入第3個正整數:356\n",
      "格式錯誤，請重新輸入第3個正整數:35\n",
      "剛剛輸入的成績是 35\n",
      "剛才輸入成績是否正確(正確請輸入1，錯誤請輸入任意字)0\n",
      "輸入第3個正整數:24\n",
      "剛剛輸入的成績是 24\n",
      "剛才輸入成績是否正確(正確請輸入1，錯誤請輸入任意字)1\n",
      "輸入第4個正整數:78\n",
      "剛剛輸入的成績是 78\n",
      "剛才輸入成績是否正確(正確請輸入1，錯誤請輸入任意字)1\n",
      "輸入第5個正整數:90\n",
      "剛剛輸入的成績是 90\n",
      "剛才輸入成績是否正確(正確請輸入1，錯誤請輸入任意字)1\n",
      "已完成輸入\n",
      "\n",
      "輸入的五筆成績為:12 46 24 78 90 \n",
      "所有學生成績的平均為50.0\n"
     ]
    }
   ],
   "source": [
    "count=5\n",
    "score=[]   #宣告一個空的串列變數名稱為score\n",
    "sum=0\n",
    "\n",
    "print('請依序輸入5個正整數，每輸入完一個正整數後請按Enter，再接著輸入下一個:')\n",
    "for item in range(count):    #透過for迴圈產生串列\n",
    "  check=0\n",
    "  while check!=str(1):\n",
    "\n",
    "      line = input('輸入第'+str(item+1)+'個正整數:')  #輸入成績\n",
    "      while (line.isdecimal()==False ) or (int(line)>100) or ( int(line)<0):\n",
    "          line = input('格式錯誤，請重新輸入第'+str(item+1)+'個正整數:')\n",
    "        \n",
    "      print(\"剛剛輸入的成績是\",int(line))\n",
    "      check=input('剛才輸入成績是否正確(正確請輸入1，錯誤請輸入任意字)')\n",
    "\n",
    "  else:    \n",
    "    sum=sum+int(line)\n",
    "    score.append(int(line))  \n",
    "\n",
    "print('已完成輸入\\n')\n",
    "\n",
    "#運用for迴圈將串列中的資料一個一個取出\n",
    "print('輸入的五筆成績為:',end=\"\" )\n",
    "for item in score: \n",
    "    print(f'{item:d}', end=\" \")\n",
    "\n",
    "print()\n",
    "print(\"所有學生成績的平均為\",end=\"\")\n",
    "average=sum/5\n",
    "print(average)"
   ]
  },
  {
   "cell_type": "code",
   "execution_count": null,
   "metadata": {},
   "outputs": [],
   "source": []
  }
 ],
 "metadata": {
  "kernelspec": {
   "display_name": "Python 3",
   "language": "python",
   "name": "python3"
  },
  "language_info": {
   "codemirror_mode": {
    "name": "ipython",
    "version": 3
   },
   "file_extension": ".py",
   "mimetype": "text/x-python",
   "name": "python",
   "nbconvert_exporter": "python",
   "pygments_lexer": "ipython3",
   "version": "3.7.4"
  }
 },
 "nbformat": 4,
 "nbformat_minor": 2
}
