{
 "cells": [
  {
   "cell_type": "markdown",
   "metadata": {},
   "source": [
    "## 政大午餐選擇"
   ]
  },
  {
   "cell_type": "code",
   "execution_count": null,
   "metadata": {},
   "outputs": [
    {
     "name": "stdout",
     "output_type": "stream",
     "text": [
      "輸入您的預算價格 a.0-100元 b.100-200元：b\n",
      "輸入想要的地點 (前山、後山) 擇一:後山\n",
      "輸入想吃的口味 (中式、日式、美式、點心) 擇一:美式\n",
      "你的午餐可以吃:必勝客\n"
     ]
    }
   ],
   "source": [
    "while True:\n",
    "    price = input(\"輸入您的預算價格 a.0-100元 b.100-200元：\")\n",
    "    location = input(\"輸入想要的地點 (前山、後山) 擇一:\")\n",
    "    flavor = input(\"輸入想吃的口味 (中式、日式、美式、點心) 擇一:\")\n",
    "\n",
    "    if (price == 'a'):\n",
    "        if(location == '前山'):\n",
    "            if(flavor == '中式'):\n",
    "                print('你的午餐可以吃:佳味自助餐、MY 麵屋')\n",
    "            elif(flavor == '日式'):\n",
    "                print('你的午餐可以吃:查無此項（請找uber eat)')\n",
    "            elif(flavor == '美式'):\n",
    "                print('你的午餐可以吃:查無此項（請找uber eat)')\n",
    "            elif(flavor == '點心'):\n",
    "                print('你的午餐可以吃:麵包大亨、可麗餅')\n",
    "        if(location == '後山'):\n",
    "            if(flavor == '中式'):\n",
    "                print('你的午餐可以吃:陽城燒臘、木柵米粉湯')\n",
    "            elif(flavor == '日式'):\n",
    "                print('你的午餐可以吃:查無此項（請找uber eat)')\n",
    "            elif(flavor == '美式'):\n",
    "                print('你的午餐可以吃:查無此項（請找uber eat)')\n",
    "            elif(flavor == '點心'):\n",
    "                print('你的午餐可以吃:85度C、晨間廚房')\n",
    "    if (price == 'b'):\n",
    "        if(location == '前山'):\n",
    "            if(flavor == '中式'):\n",
    "                print('你的午餐可以吃:八方雲集、水盆羊肉')\n",
    "            elif(flavor == '日式'):\n",
    "                print('你的午餐可以吃:樂山、金鰭')\n",
    "            elif(flavor == '美式'):\n",
    "                print('你的午餐可以吃:juicy bun')\n",
    "            elif(flavor == '點心'):\n",
    "                print('你的午餐可以吃:小公寓')\n",
    "        if(location == '後山'):\n",
    "            if(flavor == '中式'):\n",
    "                print('你的午餐可以吃:荷里固、鐵板燒')\n",
    "            elif(flavor == '日式'):\n",
    "                print('你的午餐可以吃:小丼作食堂')\n",
    "            elif(flavor == '美式'):\n",
    "                print('你的午餐可以吃:必勝客')\n",
    "            elif(flavor == '點心'):\n",
    "                print('你的午餐可以吃:舒咖啡、等一個人咖啡')\n",
    "        \n"
   ]
  }
 ],
 "metadata": {
  "kernelspec": {
   "display_name": "Python 3",
   "language": "python",
   "name": "python3"
  },
  "language_info": {
   "codemirror_mode": {
    "name": "ipython",
    "version": 3
   },
   "file_extension": ".py",
   "mimetype": "text/x-python",
   "name": "python",
   "nbconvert_exporter": "python",
   "pygments_lexer": "ipython3",
   "version": "3.7.4"
  }
 },
 "nbformat": 4,
 "nbformat_minor": 2
}
