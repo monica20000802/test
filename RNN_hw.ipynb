{
 "cells": [
  {
   "cell_type": "code",
   "execution_count": 58,
   "metadata": {},
   "outputs": [],
   "source": [
    "%matplotlib inline\n",
    "\n",
    "import numpy as np\n",
    "import matplotlib.pyplot as plt\n",
    "import pandas as pd"
   ]
  },
  {
   "cell_type": "markdown",
   "metadata": {},
   "source": [
    "# 1.讀入深度學習套件"
   ]
  },
  {
   "cell_type": "code",
   "execution_count": 59,
   "metadata": {},
   "outputs": [],
   "source": [
    "from tensorflow.keras.preprocessing import sequence\n",
    "from tensorflow.keras.models import Sequential \n",
    "from tensorflow.keras.layers import Dense, Embedding\n",
    "from tensorflow.keras.layers import LSTM\n",
    "from tensorflow.keras.datasets import imdb"
   ]
  },
  {
   "cell_type": "markdown",
   "metadata": {},
   "source": [
    "# 2.讀入數據"
   ]
  },
  {
   "cell_type": "code",
   "execution_count": 60,
   "metadata": {},
   "outputs": [],
   "source": [
    "(x_train, y_train), (x_test, y_test) = imdb.load_data(num_words=10000)"
   ]
  },
  {
   "cell_type": "markdown",
   "metadata": {},
   "source": [
    "# 3.資料處理"
   ]
  },
  {
   "cell_type": "code",
   "execution_count": 68,
   "metadata": {},
   "outputs": [],
   "source": [
    "x_train = sequence.pad_sequences(x_train, maxlen=150)\n",
    "x_test = sequence.pad_sequences(x_test, maxlen=150)"
   ]
  },
  {
   "cell_type": "markdown",
   "metadata": {},
   "source": [
    "# 4. step1:打造一個函數學習機"
   ]
  },
  {
   "cell_type": "code",
   "execution_count": 69,
   "metadata": {},
   "outputs": [],
   "source": [
    "model = Sequential()"
   ]
  },
  {
   "cell_type": "code",
   "execution_count": 70,
   "metadata": {},
   "outputs": [],
   "source": [
    "model.add(Embedding(10000,128)) #10000維 壓成 128維"
   ]
  },
  {
   "cell_type": "code",
   "execution_count": 71,
   "metadata": {},
   "outputs": [],
   "source": [
    "model.add(LSTM(100, dropout=0.25, recurrent_dropout=0.25)) "
   ]
  },
  {
   "cell_type": "code",
   "execution_count": 72,
   "metadata": {},
   "outputs": [],
   "source": [
    "model.add(Dense(1, activation='sigmoid')) #最後輸出要是0-1之間的一個數：表正評的機會有多大"
   ]
  },
  {
   "cell_type": "code",
   "execution_count": 73,
   "metadata": {},
   "outputs": [],
   "source": [
    "model.compile(loss='binary_crossentropy', optimizer='adam', metrics=['accuracy'])\n",
    "#分類型：crossentropy 因為現在只有0跟1 所以是binary"
   ]
  },
  {
   "cell_type": "code",
   "execution_count": 74,
   "metadata": {},
   "outputs": [
    {
     "name": "stdout",
     "output_type": "stream",
     "text": [
      "Model: \"sequential_3\"\n",
      "_________________________________________________________________\n",
      "Layer (type)                 Output Shape              Param #   \n",
      "=================================================================\n",
      "embedding_3 (Embedding)      (None, None, 128)         1280000   \n",
      "_________________________________________________________________\n",
      "lstm_4 (LSTM)                (None, 100)               91600     \n",
      "_________________________________________________________________\n",
      "dense_4 (Dense)              (None, 1)                 101       \n",
      "=================================================================\n",
      "Total params: 1,371,701\n",
      "Trainable params: 1,371,701\n",
      "Non-trainable params: 0\n",
      "_________________________________________________________________\n"
     ]
    }
   ],
   "source": [
    "model.summary()"
   ]
  },
  {
   "cell_type": "markdown",
   "metadata": {},
   "source": [
    "# 5.step02:訓練"
   ]
  },
  {
   "cell_type": "code",
   "execution_count": 76,
   "metadata": {},
   "outputs": [
    {
     "name": "stdout",
     "output_type": "stream",
     "text": [
      "Train on 25000 samples, validate on 25000 samples\n",
      "Epoch 1/12\n",
      "25000/25000 [==============================] - 372s 15ms/sample - loss: 0.4647 - accuracy: 0.7825 - val_loss: 0.3838 - val_accuracy: 0.8299\n",
      "Epoch 2/12\n",
      "25000/25000 [==============================] - 387s 15ms/sample - loss: 0.4321 - accuracy: 0.8048 - val_loss: 0.4227 - val_accuracy: 0.8134\n",
      "Epoch 3/12\n",
      "25000/25000 [==============================] - 400s 16ms/sample - loss: 0.3186 - accuracy: 0.8670 - val_loss: 0.3397 - val_accuracy: 0.8578\n",
      "Epoch 4/12\n",
      "25000/25000 [==============================] - 310s 12ms/sample - loss: 0.2454 - accuracy: 0.9012 - val_loss: 0.3271 - val_accuracy: 0.8622\n",
      "Epoch 5/12\n",
      "25000/25000 [==============================] - 308s 12ms/sample - loss: 0.1908 - accuracy: 0.9254 - val_loss: 0.3462 - val_accuracy: 0.8641\n",
      "Epoch 6/12\n",
      "25000/25000 [==============================] - 301s 12ms/sample - loss: 0.1454 - accuracy: 0.9454 - val_loss: 0.4116 - val_accuracy: 0.8486\n",
      "Epoch 7/12\n",
      "25000/25000 [==============================] - 312s 12ms/sample - loss: 0.1137 - accuracy: 0.9588 - val_loss: 0.4100 - val_accuracy: 0.8592\n",
      "Epoch 8/12\n",
      "25000/25000 [==============================] - 305s 12ms/sample - loss: 0.0822 - accuracy: 0.9709 - val_loss: 0.4767 - val_accuracy: 0.8516\n",
      "Epoch 9/12\n",
      "25000/25000 [==============================] - 302s 12ms/sample - loss: 0.0595 - accuracy: 0.9804 - val_loss: 0.6203 - val_accuracy: 0.8528\n",
      "Epoch 10/12\n",
      "25000/25000 [==============================] - 311s 12ms/sample - loss: 0.0446 - accuracy: 0.9856 - val_loss: 0.6414 - val_accuracy: 0.8488\n",
      "Epoch 11/12\n",
      "25000/25000 [==============================] - 308s 12ms/sample - loss: 0.0347 - accuracy: 0.9898 - val_loss: 0.7120 - val_accuracy: 0.8453\n",
      "Epoch 12/12\n",
      "25000/25000 [==============================] - 305s 12ms/sample - loss: 0.0272 - accuracy: 0.9916 - val_loss: 0.6960 - val_accuracy: 0.8413\n"
     ]
    },
    {
     "data": {
      "text/plain": [
       "<tensorflow.python.keras.callbacks.History at 0x140487fd0>"
      ]
     },
     "execution_count": 76,
     "metadata": {},
     "output_type": "execute_result"
    }
   ],
   "source": [
    "model.fit(x_train, y_train, batch_size=30, epochs=12,validation_data=(x_test,y_test))"
   ]
  },
  {
   "cell_type": "markdown",
   "metadata": {},
   "source": [
    "# 修改的地方"
   ]
  },
  {
   "cell_type": "code",
   "execution_count": 77,
   "metadata": {},
   "outputs": [],
   "source": [
    "#maxlen改成 擷取前150字\n",
    "#LSTM改成 100\n",
    "#dropout改成0.25\n",
    "# 調低batch_size\n",
    "# 調高epochs"
   ]
  },
  {
   "cell_type": "code",
   "execution_count": null,
   "metadata": {},
   "outputs": [],
   "source": []
  }
 ],
 "metadata": {
  "kernelspec": {
   "display_name": "Python 3",
   "language": "python",
   "name": "python3"
  },
  "language_info": {
   "codemirror_mode": {
    "name": "ipython",
    "version": 3
   },
   "file_extension": ".py",
   "mimetype": "text/x-python",
   "name": "python",
   "nbconvert_exporter": "python",
   "pygments_lexer": "ipython3",
   "version": "3.7.4"
  }
 },
 "nbformat": 4,
 "nbformat_minor": 2
}
