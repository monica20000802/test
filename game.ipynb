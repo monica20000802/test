{
 "cells": [
  {
   "cell_type": "markdown",
   "metadata": {},
   "source": [
    "# 主題：遊戲人間"
   ]
  },
  {
   "cell_type": "markdown",
   "metadata": {},
   "source": [
    "## 組員名單\n",
    "107304001 統二 李宜隆<br>\n",
    "107304015 統二 黃揚軒<br>\n",
    "107304016 統二 高宏維<br>\n",
    "107207418 統二 黃莫涵<br>"
   ]
  },
  {
   "cell_type": "markdown",
   "metadata": {},
   "source": [
    "## 主題介紹\n",
    "### 如果今天上市了一個新遊戲，還沒有相關的評價，可不可以由程式來評斷其遊玩分數?"
   ]
  },
  {
   "cell_type": "markdown",
   "metadata": {},
   "source": [
    "## 發想動機\n",
    "\n",
    "由於前陣子的防疫風波，大家變得必須以在室內活動為主，在室內玩遊戲就成了一個主要的休閒娛樂活動<br>\n",
    "除了很紅的動物森友會，還有什麼可以玩呢？如果我們對於遊戲不夠了解，很容易就會踩到地雷<br>\n",
    "所以我們想到是否可以透過遊戲的類別、公司、平台、銷售量來進行對遊戲評分的預測，試試看能否用深度學習達成這件事<br>"
   ]
  },
  {
   "cell_type": "markdown",
   "metadata": {},
   "source": [
    "## 資料搜集過程與困難"
   ]
  },
  {
   "cell_type": "markdown",
   "metadata": {},
   "source": [
    "我們原先的目標是：想要用遊戲的年份、平台、類型、公司及評分去預估它的全球銷售量(或平台、類型、公司、全球銷售量去預估評分)。<br>\n",
    "在Kaggle資料庫裡面，我們找到了一份包含遊戲的年份、平台、類型、公司的數據集(約16000多筆)，收錄了銷售量超過十萬以上的遊戲。而根據此數據集取得資料的原始網站，我們發現該網站有遊戲評分的資料(約55000多筆)。我們開始想辦法要取得評分的資料，然而每個組員都沒有學過爬蟲，於是開始了各方求助。過程中遇到了許多阻礙，就在一個禮拜後爬蟲的問題仍未被解決時，我們赫然發現該網站的評分資料，有效的評分(沒有缺漏的部分)只有6000多筆，更別提是和Kaggle數據集有重疊的遊戲的資料就更少了。<br>\n",
    "晴天霹靂之際，我們還是重振旗鼓，最後決定使用遊戲的平台、類型、公司去預測全球銷售量。<br>"
   ]
  },
  {
   "cell_type": "markdown",
   "metadata": {},
   "source": [
    "#### 網址：  [原始資料集](https://docs.google.com/spreadsheets/d/1rZimHYmkhrH-QYJxH-j2M6bI05N2fYNweTNbiaPKNm8/edit?usp=sharing)"
   ]
  },
  {
   "cell_type": "markdown",
   "metadata": {},
   "source": [
    "## 事前資料處理\n",
    "\n",
    "我們將遊戲的平台(x1)、類型(x2)、發行公司(x3) 由文字編碼成數字取代，數字本身的大小並無特別意義，只純粹代表種類的區分。<br>\n",
    "在16596筆資料中，平台(x1)編碼成0-30，類型(x2)編碼成0-12，發行公司(x3)編碼成0-571。<br>\n",
    "全球銷售量(y)方面，我們依照銷售量的多寡編成0-10共11個等級，0-9級每級約有1600筆資料，第10級則是少數(約五十個)銷售量超過一千萬的遊戲。<br>"
   ]
  },
  {
   "cell_type": "markdown",
   "metadata": {},
   "source": [
    "#### 網址：[編碼](https://drive.google.com/file/d/1d68EgwYbqCgeFsXSJnyxNj0ZJgraon1v/view?usp=sharing)&nbsp; &nbsp;&nbsp;[x資料](https://drive.google.com/file/d/1gIZgMQKk94BpCGx49FPzBB8iNwsJ8L_b/view?usp=sharing)&nbsp; &nbsp;&nbsp;[y資料](https://drive.google.com/file/d/10oUibj0GK14u6lQix0fwFxSf779L7d6F/view?usp=sharing) "
   ]
  },
  {
   "cell_type": "markdown",
   "metadata": {},
   "source": [
    "## 開始寫模型"
   ]
  },
  {
   "cell_type": "code",
   "execution_count": 191,
   "metadata": {},
   "outputs": [],
   "source": [
    "%matplotlib inline\n",
    "import numpy as np\n",
    "import matplotlib.pyplot as plt\n",
    "import pandas as pd\n",
    "import tensorflow as tf"
   ]
  },
  {
   "cell_type": "markdown",
   "metadata": {},
   "source": [
    "## 資料讀入、整理、檢查"
   ]
  },
  {
   "cell_type": "code",
   "execution_count": 192,
   "metadata": {},
   "outputs": [],
   "source": [
    "from tensorflow.keras.utils import to_categorical"
   ]
  },
  {
   "cell_type": "code",
   "execution_count": 193,
   "metadata": {},
   "outputs": [],
   "source": [
    "df=pd.read_excel(\"x.xlsx\")  #用pandas讀取名為x的excel檔並存成dataframe"
   ]
  },
  {
   "cell_type": "code",
   "execution_count": 194,
   "metadata": {},
   "outputs": [
    {
     "data": {
      "text/html": [
       "<div>\n",
       "<style scoped>\n",
       "    .dataframe tbody tr th:only-of-type {\n",
       "        vertical-align: middle;\n",
       "    }\n",
       "\n",
       "    .dataframe tbody tr th {\n",
       "        vertical-align: top;\n",
       "    }\n",
       "\n",
       "    .dataframe thead th {\n",
       "        text-align: right;\n",
       "    }\n",
       "</style>\n",
       "<table border=\"1\" class=\"dataframe\">\n",
       "  <thead>\n",
       "    <tr style=\"text-align: right;\">\n",
       "      <th></th>\n",
       "      <th>Platform</th>\n",
       "      <th>Genre</th>\n",
       "      <th>Publisher</th>\n",
       "    </tr>\n",
       "  </thead>\n",
       "  <tbody>\n",
       "    <tr>\n",
       "      <td>0</td>\n",
       "      <td>7</td>\n",
       "      <td>11</td>\n",
       "      <td>326</td>\n",
       "    </tr>\n",
       "    <tr>\n",
       "      <td>1</td>\n",
       "      <td>7</td>\n",
       "      <td>4</td>\n",
       "      <td>26</td>\n",
       "    </tr>\n",
       "    <tr>\n",
       "      <td>2</td>\n",
       "      <td>7</td>\n",
       "      <td>4</td>\n",
       "      <td>26</td>\n",
       "    </tr>\n",
       "    <tr>\n",
       "      <td>3</td>\n",
       "      <td>7</td>\n",
       "      <td>4</td>\n",
       "      <td>26</td>\n",
       "    </tr>\n",
       "    <tr>\n",
       "      <td>4</td>\n",
       "      <td>7</td>\n",
       "      <td>4</td>\n",
       "      <td>26</td>\n",
       "    </tr>\n",
       "    <tr>\n",
       "      <td>...</td>\n",
       "      <td>...</td>\n",
       "      <td>...</td>\n",
       "      <td>...</td>\n",
       "    </tr>\n",
       "    <tr>\n",
       "      <td>16591</td>\n",
       "      <td>1</td>\n",
       "      <td>6</td>\n",
       "      <td>34</td>\n",
       "    </tr>\n",
       "    <tr>\n",
       "      <td>16592</td>\n",
       "      <td>17</td>\n",
       "      <td>6</td>\n",
       "      <td>34</td>\n",
       "    </tr>\n",
       "    <tr>\n",
       "      <td>16593</td>\n",
       "      <td>16</td>\n",
       "      <td>10</td>\n",
       "      <td>548</td>\n",
       "    </tr>\n",
       "    <tr>\n",
       "      <td>16594</td>\n",
       "      <td>22</td>\n",
       "      <td>12</td>\n",
       "      <td>326</td>\n",
       "    </tr>\n",
       "    <tr>\n",
       "      <td>16595</td>\n",
       "      <td>4</td>\n",
       "      <td>2</td>\n",
       "      <td>13</td>\n",
       "    </tr>\n",
       "  </tbody>\n",
       "</table>\n",
       "<p>16596 rows × 3 columns</p>\n",
       "</div>"
      ],
      "text/plain": [
       "       Platform  Genre  Publisher\n",
       "0             7     11        326\n",
       "1             7      4         26\n",
       "2             7      4         26\n",
       "3             7      4         26\n",
       "4             7      4         26\n",
       "...         ...    ...        ...\n",
       "16591         1      6         34\n",
       "16592        17      6         34\n",
       "16593        16     10        548\n",
       "16594        22     12        326\n",
       "16595         4      2         13\n",
       "\n",
       "[16596 rows x 3 columns]"
      ]
     },
     "execution_count": 194,
     "metadata": {},
     "output_type": "execute_result"
    }
   ],
   "source": [
    "df  #欣賞內容"
   ]
  },
  {
   "cell_type": "code",
   "execution_count": 201,
   "metadata": {},
   "outputs": [],
   "source": [
    "x1 = df.Platform   #取出x.xlsx檔中Platform(平台)那欄作為變數x1，Genre(類型)那欄作為變數x2，Publisher(發行公司)那欄作為變數x3\n",
    "x2 = df.Genre   \n",
    "x3 = df.Publishe"
   ]
  },
  {
   "cell_type": "code",
   "execution_count": 202,
   "metadata": {},
   "outputs": [
    {
     "data": {
      "text/plain": [
       "(7, 4, 26)"
      ]
     },
     "execution_count": 202,
     "metadata": {},
     "output_type": "execute_result"
    }
   ],
   "source": [
    "x1[1], x2[1], x3[1]"
   ]
  },
  {
   "cell_type": "code",
   "execution_count": 203,
   "metadata": {},
   "outputs": [],
   "source": [
    "x1 = to_categorical(x1, 31)    #把數字做One-Hot Encoding，x1分0-30 共31類，x2分0-12 共13類，x3分0-571 共572類\n",
    "x2 = to_categorical(x2, 13)   \n",
    "x3 = to_categorical(x3, 572)  "
   ]
  },
  {
   "cell_type": "code",
   "execution_count": 204,
   "metadata": {},
   "outputs": [
    {
     "data": {
      "text/plain": [
       "(array([0., 0., 0., 0., 0., 0., 0., 1., 0., 0., 0., 0., 0., 0., 0., 0., 0.,\n",
       "        0., 0., 0., 0., 0., 0., 0., 0., 0., 0., 0., 0., 0., 0.],\n",
       "       dtype=float32),\n",
       " array([0., 0., 0., 0., 1., 0., 0., 0., 0., 0., 0., 0., 0.], dtype=float32),\n",
       " array([0., 0., 0., 0., 0., 0., 0., 0., 0., 0., 0., 0., 0., 0., 0., 0., 0.,\n",
       "        0., 0., 0., 0., 0., 0., 0., 0., 0., 1., 0., 0., 0., 0., 0., 0., 0.,\n",
       "        0., 0., 0., 0., 0., 0., 0., 0., 0., 0., 0., 0., 0., 0., 0., 0., 0.,\n",
       "        0., 0., 0., 0., 0., 0., 0., 0., 0., 0., 0., 0., 0., 0., 0., 0., 0.,\n",
       "        0., 0., 0., 0., 0., 0., 0., 0., 0., 0., 0., 0., 0., 0., 0., 0., 0.,\n",
       "        0., 0., 0., 0., 0., 0., 0., 0., 0., 0., 0., 0., 0., 0., 0., 0., 0.,\n",
       "        0., 0., 0., 0., 0., 0., 0., 0., 0., 0., 0., 0., 0., 0., 0., 0., 0.,\n",
       "        0., 0., 0., 0., 0., 0., 0., 0., 0., 0., 0., 0., 0., 0., 0., 0., 0.,\n",
       "        0., 0., 0., 0., 0., 0., 0., 0., 0., 0., 0., 0., 0., 0., 0., 0., 0.,\n",
       "        0., 0., 0., 0., 0., 0., 0., 0., 0., 0., 0., 0., 0., 0., 0., 0., 0.,\n",
       "        0., 0., 0., 0., 0., 0., 0., 0., 0., 0., 0., 0., 0., 0., 0., 0., 0.,\n",
       "        0., 0., 0., 0., 0., 0., 0., 0., 0., 0., 0., 0., 0., 0., 0., 0., 0.,\n",
       "        0., 0., 0., 0., 0., 0., 0., 0., 0., 0., 0., 0., 0., 0., 0., 0., 0.,\n",
       "        0., 0., 0., 0., 0., 0., 0., 0., 0., 0., 0., 0., 0., 0., 0., 0., 0.,\n",
       "        0., 0., 0., 0., 0., 0., 0., 0., 0., 0., 0., 0., 0., 0., 0., 0., 0.,\n",
       "        0., 0., 0., 0., 0., 0., 0., 0., 0., 0., 0., 0., 0., 0., 0., 0., 0.,\n",
       "        0., 0., 0., 0., 0., 0., 0., 0., 0., 0., 0., 0., 0., 0., 0., 0., 0.,\n",
       "        0., 0., 0., 0., 0., 0., 0., 0., 0., 0., 0., 0., 0., 0., 0., 0., 0.,\n",
       "        0., 0., 0., 0., 0., 0., 0., 0., 0., 0., 0., 0., 0., 0., 0., 0., 0.,\n",
       "        0., 0., 0., 0., 0., 0., 0., 0., 0., 0., 0., 0., 0., 0., 0., 0., 0.,\n",
       "        0., 0., 0., 0., 0., 0., 0., 0., 0., 0., 0., 0., 0., 0., 0., 0., 0.,\n",
       "        0., 0., 0., 0., 0., 0., 0., 0., 0., 0., 0., 0., 0., 0., 0., 0., 0.,\n",
       "        0., 0., 0., 0., 0., 0., 0., 0., 0., 0., 0., 0., 0., 0., 0., 0., 0.,\n",
       "        0., 0., 0., 0., 0., 0., 0., 0., 0., 0., 0., 0., 0., 0., 0., 0., 0.,\n",
       "        0., 0., 0., 0., 0., 0., 0., 0., 0., 0., 0., 0., 0., 0., 0., 0., 0.,\n",
       "        0., 0., 0., 0., 0., 0., 0., 0., 0., 0., 0., 0., 0., 0., 0., 0., 0.,\n",
       "        0., 0., 0., 0., 0., 0., 0., 0., 0., 0., 0., 0., 0., 0., 0., 0., 0.,\n",
       "        0., 0., 0., 0., 0., 0., 0., 0., 0., 0., 0., 0., 0., 0., 0., 0., 0.,\n",
       "        0., 0., 0., 0., 0., 0., 0., 0., 0., 0., 0., 0., 0., 0., 0., 0., 0.,\n",
       "        0., 0., 0., 0., 0., 0., 0., 0., 0., 0., 0., 0., 0., 0., 0., 0., 0.,\n",
       "        0., 0., 0., 0., 0., 0., 0., 0., 0., 0., 0., 0., 0., 0., 0., 0., 0.,\n",
       "        0., 0., 0., 0., 0., 0., 0., 0., 0., 0., 0., 0., 0., 0., 0., 0., 0.,\n",
       "        0., 0., 0., 0., 0., 0., 0., 0., 0., 0., 0., 0., 0., 0., 0., 0., 0.,\n",
       "        0., 0., 0., 0., 0., 0., 0., 0., 0., 0., 0.], dtype=float32))"
      ]
     },
     "execution_count": 204,
     "metadata": {},
     "output_type": "execute_result"
    }
   ],
   "source": [
    "x1[1], x2[1], x3[1]   #檢查是否轉換成功"
   ]
  },
  {
   "cell_type": "code",
   "execution_count": 205,
   "metadata": {},
   "outputs": [],
   "source": [
    " x=np.concatenate((x1,x2,x3 ), axis=1)  #合併3陣列，命名x"
   ]
  },
  {
   "cell_type": "code",
   "execution_count": 206,
   "metadata": {},
   "outputs": [
    {
     "data": {
      "text/plain": [
       "(16596, 616)"
      ]
     },
     "execution_count": 206,
     "metadata": {},
     "output_type": "execute_result"
    }
   ],
   "source": [
    "x.shape   #檢查合併完x個數仍為16596個， 維度變為31+13+572=616"
   ]
  },
  {
   "cell_type": "code",
   "execution_count": 207,
   "metadata": {},
   "outputs": [],
   "source": [
    "df2=pd.read_excel(\"y(0-10).xlsx\")  #用pandas讀取名為y(0-10)的excel檔並存成dataframe"
   ]
  },
  {
   "cell_type": "code",
   "execution_count": 208,
   "metadata": {},
   "outputs": [
    {
     "data": {
      "text/html": [
       "<div>\n",
       "<style scoped>\n",
       "    .dataframe tbody tr th:only-of-type {\n",
       "        vertical-align: middle;\n",
       "    }\n",
       "\n",
       "    .dataframe tbody tr th {\n",
       "        vertical-align: top;\n",
       "    }\n",
       "\n",
       "    .dataframe thead th {\n",
       "        text-align: right;\n",
       "    }\n",
       "</style>\n",
       "<table border=\"1\" class=\"dataframe\">\n",
       "  <thead>\n",
       "    <tr style=\"text-align: right;\">\n",
       "      <th></th>\n",
       "      <th>Global_Sales</th>\n",
       "    </tr>\n",
       "  </thead>\n",
       "  <tbody>\n",
       "    <tr>\n",
       "      <td>0</td>\n",
       "      <td>8</td>\n",
       "    </tr>\n",
       "    <tr>\n",
       "      <td>1</td>\n",
       "      <td>4</td>\n",
       "    </tr>\n",
       "    <tr>\n",
       "      <td>2</td>\n",
       "      <td>5</td>\n",
       "    </tr>\n",
       "    <tr>\n",
       "      <td>3</td>\n",
       "      <td>4</td>\n",
       "    </tr>\n",
       "    <tr>\n",
       "      <td>4</td>\n",
       "      <td>4</td>\n",
       "    </tr>\n",
       "    <tr>\n",
       "      <td>...</td>\n",
       "      <td>...</td>\n",
       "    </tr>\n",
       "    <tr>\n",
       "      <td>16591</td>\n",
       "      <td>6</td>\n",
       "    </tr>\n",
       "    <tr>\n",
       "      <td>16592</td>\n",
       "      <td>5</td>\n",
       "    </tr>\n",
       "    <tr>\n",
       "      <td>16593</td>\n",
       "      <td>0</td>\n",
       "    </tr>\n",
       "    <tr>\n",
       "      <td>16594</td>\n",
       "      <td>2</td>\n",
       "    </tr>\n",
       "    <tr>\n",
       "      <td>16595</td>\n",
       "      <td>4</td>\n",
       "    </tr>\n",
       "  </tbody>\n",
       "</table>\n",
       "<p>16596 rows × 1 columns</p>\n",
       "</div>"
      ],
      "text/plain": [
       "       Global_Sales\n",
       "0                 8\n",
       "1                 4\n",
       "2                 5\n",
       "3                 4\n",
       "4                 4\n",
       "...             ...\n",
       "16591             6\n",
       "16592             5\n",
       "16593             0\n",
       "16594             2\n",
       "16595             4\n",
       "\n",
       "[16596 rows x 1 columns]"
      ]
     },
     "execution_count": 208,
     "metadata": {},
     "output_type": "execute_result"
    }
   ],
   "source": [
    "df2 #欣賞內容"
   ]
  },
  {
   "cell_type": "code",
   "execution_count": 209,
   "metadata": {},
   "outputs": [],
   "source": [
    "y=df2.values #把 Dataframe 轉成 2D numpy array"
   ]
  },
  {
   "cell_type": "code",
   "execution_count": 210,
   "metadata": {},
   "outputs": [
    {
     "data": {
      "text/plain": [
       "array([8])"
      ]
     },
     "execution_count": 210,
     "metadata": {},
     "output_type": "execute_result"
    }
   ],
   "source": [
    "y[0]"
   ]
  },
  {
   "cell_type": "code",
   "execution_count": 211,
   "metadata": {},
   "outputs": [],
   "source": [
    "y = to_categorical(y,11)   #把數字做One-Hot Encoding，分0-10級 共11類"
   ]
  },
  {
   "cell_type": "code",
   "execution_count": 212,
   "metadata": {},
   "outputs": [
    {
     "data": {
      "text/plain": [
       "array([0., 0., 0., 0., 0., 0., 0., 0., 1., 0., 0.], dtype=float32)"
      ]
     },
     "execution_count": 212,
     "metadata": {},
     "output_type": "execute_result"
    }
   ],
   "source": [
    "y[0]   #檢查是否轉換成功"
   ]
  },
  {
   "cell_type": "code",
   "execution_count": 213,
   "metadata": {},
   "outputs": [
    {
     "data": {
      "text/plain": [
       "(16596, 11)"
      ]
     },
     "execution_count": 213,
     "metadata": {},
     "output_type": "execute_result"
    }
   ],
   "source": [
    "y.shape   #檢查y個數為16596個， 維度為11"
   ]
  },
  {
   "cell_type": "code",
   "execution_count": 214,
   "metadata": {},
   "outputs": [],
   "source": [
    "x_train=x[0:13500]   #讓x,y16596筆資料當中，前13500筆作為訓練資料，後3096筆作為測試資料\n",
    "y_train=y[0:13500]\n",
    "x_test=x[13500:]\n",
    "y_test=y[13500:]"
   ]
  },
  {
   "cell_type": "markdown",
   "metadata": {},
   "source": [
    "## 打造神經網路"
   ]
  },
  {
   "cell_type": "code",
   "execution_count": 217,
   "metadata": {},
   "outputs": [],
   "source": [
    "from tensorflow.keras.models import Sequential\n",
    "from tensorflow.keras.layers import Dense\n",
    "from tensorflow.keras.optimizers import SGD"
   ]
  },
  {
   "cell_type": "code",
   "execution_count": 222,
   "metadata": {},
   "outputs": [],
   "source": [
    "models=Sequential()\n",
    "models.add(Dense(50,input_dim=616,activation='relu'))  #input維度是616\n",
    "models.add(Dense(50,activation='relu'))\n",
    "models.add(Dense(11,activation='softmax')) #output結果要11類"
   ]
  },
  {
   "cell_type": "markdown",
   "metadata": {},
   "source": [
    "## 組裝我們的神經網路"
   ]
  },
  {
   "cell_type": "code",
   "execution_count": 226,
   "metadata": {},
   "outputs": [],
   "source": [
    "models.compile(loss='mse',optimizer=SGD(lr=0.1),metrics=['accuracy'])"
   ]
  },
  {
   "cell_type": "code",
   "execution_count": 227,
   "metadata": {},
   "outputs": [
    {
     "name": "stdout",
     "output_type": "stream",
     "text": [
      "Model: \"sequential_4\"\n",
      "_________________________________________________________________\n",
      "Layer (type)                 Output Shape              Param #   \n",
      "=================================================================\n",
      "dense_13 (Dense)             (None, 50)                30850     \n",
      "_________________________________________________________________\n",
      "dense_14 (Dense)             (None, 50)                2550      \n",
      "_________________________________________________________________\n",
      "dense_15 (Dense)             (None, 11)                561       \n",
      "=================================================================\n",
      "Total params: 33,961\n",
      "Trainable params: 33,961\n",
      "Non-trainable params: 0\n",
      "_________________________________________________________________\n"
     ]
    }
   ],
   "source": [
    "models.summary()"
   ]
  },
  {
   "cell_type": "markdown",
   "metadata": {},
   "source": [
    "## 訓練"
   ]
  },
  {
   "cell_type": "code",
   "execution_count": 264,
   "metadata": {},
   "outputs": [
    {
     "name": "stdout",
     "output_type": "stream",
     "text": [
      "Train on 13500 samples\n",
      "Epoch 1/60\n",
      "13500/13500 [==============================] - 4s 315us/sample - loss: 0.0618 - accuracy: 0.4398\n",
      "Epoch 2/60\n",
      "13500/13500 [==============================] - 4s 319us/sample - loss: 0.0617 - accuracy: 0.4379\n",
      "Epoch 3/60\n",
      "13500/13500 [==============================] - 4s 314us/sample - loss: 0.0617 - accuracy: 0.4411\n",
      "Epoch 4/60\n",
      "13500/13500 [==============================] - 4s 316us/sample - loss: 0.0617 - accuracy: 0.4400\n",
      "Epoch 5/60\n",
      "13500/13500 [==============================] - 4s 317us/sample - loss: 0.0617 - accuracy: 0.4416\n",
      "Epoch 6/60\n",
      "13500/13500 [==============================] - 5s 345us/sample - loss: 0.0616 - accuracy: 0.4404\n",
      "Epoch 7/60\n",
      "13500/13500 [==============================] - 4s 323us/sample - loss: 0.0617 - accuracy: 0.4423\n",
      "Epoch 8/60\n",
      "13500/13500 [==============================] - 4s 323us/sample - loss: 0.0617 - accuracy: 0.4413\n",
      "Epoch 9/60\n",
      "13500/13500 [==============================] - 4s 323us/sample - loss: 0.0616 - accuracy: 0.4417\n",
      "Epoch 10/60\n",
      "13500/13500 [==============================] - 4s 320us/sample - loss: 0.0616 - accuracy: 0.4428\n",
      "Epoch 11/60\n",
      "13500/13500 [==============================] - 4s 323us/sample - loss: 0.0616 - accuracy: 0.4416\n",
      "Epoch 12/60\n",
      "13500/13500 [==============================] - 4s 326us/sample - loss: 0.0616 - accuracy: 0.4424\n",
      "Epoch 13/60\n",
      "13500/13500 [==============================] - 4s 326us/sample - loss: 0.0616 - accuracy: 0.4421\n",
      "Epoch 14/60\n",
      "13500/13500 [==============================] - 4s 325us/sample - loss: 0.0616 - accuracy: 0.4418\n",
      "Epoch 15/60\n",
      "13500/13500 [==============================] - 4s 325us/sample - loss: 0.0615 - accuracy: 0.4414\n",
      "Epoch 16/60\n",
      "13500/13500 [==============================] - 5s 344us/sample - loss: 0.0615 - accuracy: 0.4456\n",
      "Epoch 17/60\n",
      "13500/13500 [==============================] - 4s 328us/sample - loss: 0.0616 - accuracy: 0.4435\n",
      "Epoch 18/60\n",
      "13500/13500 [==============================] - 4s 326us/sample - loss: 0.0615 - accuracy: 0.4400\n",
      "Epoch 19/60\n",
      "13500/13500 [==============================] - 4s 329us/sample - loss: 0.0615 - accuracy: 0.4430\n",
      "Epoch 20/60\n",
      "13500/13500 [==============================] - 5s 396us/sample - loss: 0.0615 - accuracy: 0.4429\n",
      "Epoch 21/60\n",
      "13500/13500 [==============================] - 5s 374us/sample - loss: 0.0614 - accuracy: 0.4421\n",
      "Epoch 22/60\n",
      "13500/13500 [==============================] - 6s 414us/sample - loss: 0.0615 - accuracy: 0.4461\n",
      "Epoch 23/60\n",
      "13500/13500 [==============================] - 5s 392us/sample - loss: 0.0615 - accuracy: 0.4402\n",
      "Epoch 24/60\n",
      "13500/13500 [==============================] - 5s 384us/sample - loss: 0.0615 - accuracy: 0.4433\n",
      "Epoch 25/60\n",
      "13500/13500 [==============================] - 5s 378us/sample - loss: 0.0614 - accuracy: 0.4456\n",
      "Epoch 26/60\n",
      "13500/13500 [==============================] - 5s 375us/sample - loss: 0.0614 - accuracy: 0.4438\n",
      "Epoch 27/60\n",
      "13500/13500 [==============================] - 5s 378us/sample - loss: 0.0614 - accuracy: 0.4402\n",
      "Epoch 28/60\n",
      "13500/13500 [==============================] - 5s 392us/sample - loss: 0.0615 - accuracy: 0.4404\n",
      "Epoch 29/60\n",
      "13500/13500 [==============================] - 5s 364us/sample - loss: 0.0614 - accuracy: 0.4448\n",
      "Epoch 30/60\n",
      "13500/13500 [==============================] - 5s 353us/sample - loss: 0.0614 - accuracy: 0.4430\n",
      "Epoch 31/60\n",
      "13500/13500 [==============================] - 5s 381us/sample - loss: 0.0614 - accuracy: 0.4430\n",
      "Epoch 32/60\n",
      "13500/13500 [==============================] - 5s 354us/sample - loss: 0.0613 - accuracy: 0.4431\n",
      "Epoch 33/60\n",
      "13500/13500 [==============================] - 5s 351us/sample - loss: 0.0613 - accuracy: 0.4465\n",
      "Epoch 34/60\n",
      "13500/13500 [==============================] - 5s 351us/sample - loss: 0.0613 - accuracy: 0.4433\n",
      "Epoch 35/60\n",
      "13500/13500 [==============================] - 5s 369us/sample - loss: 0.0613 - accuracy: 0.4419\n",
      "Epoch 36/60\n",
      "13500/13500 [==============================] - 5s 357us/sample - loss: 0.0613 - accuracy: 0.4421\n",
      "Epoch 37/60\n",
      "13500/13500 [==============================] - 5s 358us/sample - loss: 0.0613 - accuracy: 0.4423\n",
      "Epoch 38/60\n",
      "13500/13500 [==============================] - 5s 375us/sample - loss: 0.0612 - accuracy: 0.4433\n",
      "Epoch 39/60\n",
      "13500/13500 [==============================] - 5s 358us/sample - loss: 0.0613 - accuracy: 0.4436\n",
      "Epoch 40/60\n",
      "13500/13500 [==============================] - 5s 360us/sample - loss: 0.0613 - accuracy: 0.4429\n",
      "Epoch 41/60\n",
      "13500/13500 [==============================] - 5s 364us/sample - loss: 0.0611 - accuracy: 0.4483\n",
      "Epoch 42/60\n",
      "13500/13500 [==============================] - 5s 362us/sample - loss: 0.0612 - accuracy: 0.4449\n",
      "Epoch 43/60\n",
      "13500/13500 [==============================] - 5s 360us/sample - loss: 0.0612 - accuracy: 0.4436\n",
      "Epoch 44/60\n",
      "13500/13500 [==============================] - 5s 363us/sample - loss: 0.0612 - accuracy: 0.4439\n",
      "Epoch 45/60\n",
      "13500/13500 [==============================] - 5s 362us/sample - loss: 0.0611 - accuracy: 0.4476\n",
      "Epoch 46/60\n",
      "13500/13500 [==============================] - 5s 370us/sample - loss: 0.0612 - accuracy: 0.4454\n",
      "Epoch 47/60\n",
      "13500/13500 [==============================] - 5s 364us/sample - loss: 0.0612 - accuracy: 0.4461\n",
      "Epoch 48/60\n",
      "13500/13500 [==============================] - 6s 432us/sample - loss: 0.0611 - accuracy: 0.4468\n",
      "Epoch 49/60\n",
      "13500/13500 [==============================] - 5s 372us/sample - loss: 0.0611 - accuracy: 0.4467\n",
      "Epoch 50/60\n",
      "13500/13500 [==============================] - 5s 383us/sample - loss: 0.0612 - accuracy: 0.4447\n",
      "Epoch 51/60\n",
      "13500/13500 [==============================] - 6s 415us/sample - loss: 0.0612 - accuracy: 0.4433\n",
      "Epoch 52/60\n",
      "13500/13500 [==============================] - 5s 376us/sample - loss: 0.0611 - accuracy: 0.4465\n",
      "Epoch 53/60\n",
      "13500/13500 [==============================] - 5s 367us/sample - loss: 0.0612 - accuracy: 0.4411\n",
      "Epoch 54/60\n",
      "13500/13500 [==============================] - 5s 359us/sample - loss: 0.0611 - accuracy: 0.4476\n",
      "Epoch 55/60\n",
      "13500/13500 [==============================] - 6s 450us/sample - loss: 0.0611 - accuracy: 0.4438\n",
      "Epoch 56/60\n",
      "13500/13500 [==============================] - 5s 391us/sample - loss: 0.0610 - accuracy: 0.4484\n",
      "Epoch 57/60\n",
      "13500/13500 [==============================] - 6s 416us/sample - loss: 0.0610 - accuracy: 0.4476\n",
      "Epoch 58/60\n",
      "13500/13500 [==============================] - 5s 378us/sample - loss: 0.0610 - accuracy: 0.4459\n",
      "Epoch 59/60\n",
      "13500/13500 [==============================] - 5s 402us/sample - loss: 0.0611 - accuracy: 0.4481\n",
      "Epoch 60/60\n",
      "13500/13500 [==============================] - 5s 383us/sample - loss: 0.0610 - accuracy: 0.4480 - loss: 0.0609 - accu\n"
     ]
    },
    {
     "data": {
      "text/plain": [
       "<tensorflow.python.keras.callbacks.History at 0x14fdc3190>"
      ]
     },
     "execution_count": 264,
     "metadata": {},
     "output_type": "execute_result"
    }
   ],
   "source": [
    "models.fit(x_train, y_train, batch_size=5, epochs=60)"
   ]
  },
  {
   "cell_type": "markdown",
   "metadata": {},
   "source": [
    "## 訓練成果"
   ]
  },
  {
   "cell_type": "code",
   "execution_count": 253,
   "metadata": {},
   "outputs": [
    {
     "name": "stdout",
     "output_type": "stream",
     "text": [
      "神經網路預測是: [9 8 1 ... 0 0 3]\n"
     ]
    }
   ],
   "source": [
    "result = models.predict_classes(x_test)\n",
    "print('神經網路預測是:', result)"
   ]
  },
  {
   "cell_type": "code",
   "execution_count": 254,
   "metadata": {},
   "outputs": [
    {
     "name": "stdout",
     "output_type": "stream",
     "text": [
      "3096/3096 [==============================] - 0s 38us/sample - loss: 0.0874 - accuracy: 0.2087\n"
     ]
    }
   ],
   "source": [
    "score = models.evaluate(x_test, y_test)"
   ]
  },
  {
   "cell_type": "code",
   "execution_count": 255,
   "metadata": {},
   "outputs": [
    {
     "name": "stdout",
     "output_type": "stream",
     "text": [
      "測試資料的正確率為 0.20865633\n"
     ]
    }
   ],
   "source": [
    "loss, acc = score\n",
    "print('測試資料的正確率為', acc)"
   ]
  },
  {
   "cell_type": "markdown",
   "metadata": {},
   "source": [
    "## 結論\n",
    "我們發現訓練資料在多次訓練後準確率才會提高一點，但這樣也可能造就過度擬和的問題。\n",
    "而測試資料的準確率並不高，代表機器並沒有真的把這些資料學好，表示單就遊戲平台、類型、發行公司沒有辦法很好的預測全球銷售量。"
   ]
  },
  {
   "cell_type": "markdown",
   "metadata": {},
   "source": [
    "## 專案分工"
   ]
  },
  {
   "cell_type": "markdown",
   "metadata": {},
   "source": [
    "黃莫涵：將數據庫16000多筆資料重新編碼與整理、建構全連結神經網路模型與預測結果、調整模型錯誤之處。<br>\n",
    "高宏維：將數據庫16000多筆資料重新編碼與整理、爬蟲失敗後提出補救方案與重新整理可用資料、建構全連結神經網路模型。<br>\n",
    "黃揚軒：試著利用爬蟲獲取遊戲網站的遊戲評分資料(後因資料不足而放棄)、爬蟲失敗後提出補救方案與重新整理可用資料、建構全連結神經網路模型。<br>\n",
    "李宜隆：試著利用爬蟲獲取遊戲網站的遊戲評分資料(後因資料不足而放棄)、轉換資料為模型可用型態。<br>"
   ]
  },
  {
   "cell_type": "markdown",
   "metadata": {},
   "source": [
    "## 實作心得"
   ]
  },
  {
   "cell_type": "markdown",
   "metadata": {},
   "source": [
    "## 謝謝大家"
   ]
  }
 ],
 "metadata": {
  "kernelspec": {
   "display_name": "Python 3",
   "language": "python",
   "name": "python3"
  },
  "language_info": {
   "codemirror_mode": {
    "name": "ipython",
    "version": 3
   },
   "file_extension": ".py",
   "mimetype": "text/x-python",
   "name": "python",
   "nbconvert_exporter": "python",
   "pygments_lexer": "ipython3",
   "version": "3.7.4"
  }
 },
 "nbformat": 4,
 "nbformat_minor": 2
}
