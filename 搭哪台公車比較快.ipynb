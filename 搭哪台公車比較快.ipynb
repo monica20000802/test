{
 "cells": [
  {
   "cell_type": "markdown",
   "metadata": {},
   "source": [
    "## 搭哪台公車比較快"
   ]
  },
  {
   "cell_type": "code",
   "execution_count": 1,
   "metadata": {},
   "outputs": [
    {
     "name": "stdout",
     "output_type": "stream",
     "text": [
      "今天是星期幾:8\n",
      "程式尚未建好\n",
      "是否要繼續查詢?1\n",
      "今天是星期幾:5\n",
      "現在是幾點幾分:1538\n",
      "搭1路或2路會比較快\n",
      "是否要繼續查詢?0\n",
      "感謝您的使用!\n"
     ]
    }
   ],
   "source": [
    "end=1\n",
    "while end==1:\n",
    " D=input(\"今天是星期幾:\")#只能輸1~7\n",
    " D1=int(D)\n",
    "\n",
    " if D1<=5:\n",
    "  Time=input(\"現在是幾點幾分:\") #輸入格式範例:1650\n",
    "  T=int(Time[2:])\n",
    "  if (16<=T<=20) or (36<=T<=40):\n",
    "    print(\"搭1路或2路會比較快\")\n",
    "  elif (1<=T<=5) or (26<=T<=30):\n",
    "    print(\"搭1路或3路會比較快\")\n",
    "  else:\n",
    "    print(\"搭1路會比較快\")\n",
    " \n",
    " else:\n",
    "  print(\"程式尚未建好\")\n",
    "  \n",
    " Q=input(\"是否要繼續查詢?\")  #是的話請按1，不是的話請按0\n",
    "\n",
    " if int(Q)==0:\n",
    "        print(\"感謝您的使用!\")\n",
    "        end=int(Q)\n",
    " else:\n",
    "        end=int(Q)"
   ]
  }
 ],
 "metadata": {
  "kernelspec": {
   "display_name": "Python 3",
   "language": "python",
   "name": "python3"
  },
  "language_info": {
   "codemirror_mode": {
    "name": "ipython",
    "version": 3
   },
   "file_extension": ".py",
   "mimetype": "text/x-python",
   "name": "python",
   "nbconvert_exporter": "python",
   "pygments_lexer": "ipython3",
   "version": "3.7.4"
  }
 },
 "nbformat": 4,
 "nbformat_minor": 2
}
