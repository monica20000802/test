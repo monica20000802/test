{
 "cells": [
  {
   "cell_type": "code",
   "execution_count": 6,
   "metadata": {},
   "outputs": [],
   "source": [
    "%matplotlib inline\n",
    "\n",
    "import numpy as np\n",
    "import matplotlib.pyplot as plt\n",
    "import pandas as pd"
   ]
  },
  {
   "cell_type": "code",
   "execution_count": 7,
   "metadata": {},
   "outputs": [
    {
     "name": "stdout",
     "output_type": "stream",
     "text": [
      "請輸入年份：2020\n",
      "請輸入月份：3\n",
      "請輸入日：10\n",
      "this day is the 70th day\n"
     ]
    }
   ],
   "source": [
    "year = int(input(\"請輸入年份：\"))\n",
    "month = int(input(\"請輸入月份：\"))\n",
    "day = int(input(\"請輸入日：\"))\n",
    "\n",
    "if year % 400 == 0 or (year % 100 != 0 and year % 4 == 0) :\n",
    "    days = [0,31, 29, 31, 30, 31, 30, 31, 31, 30, 31, 30]\n",
    "else:\n",
    "    days = [0,31, 28, 31, 30, 31, 30, 31, 31, 30, 31, 30]\n",
    "which_day = 0\n",
    "if month >= 1 and month <= 12:\n",
    "    for x in range(month):\n",
    "        which_day += days[x]\n",
    "    which_day += day\n",
    "    print(\"this day is the %dth day\" % which_day)\n",
    "else:\n",
    "    print(\"error month type\")\n"
   ]
  },
  {
   "cell_type": "code",
   "execution_count": null,
   "metadata": {},
   "outputs": [],
   "source": []
  }
 ],
 "metadata": {
  "kernelspec": {
   "display_name": "Python 3",
   "language": "python",
   "name": "python3"
  },
  "language_info": {
   "codemirror_mode": {
    "name": "ipython",
    "version": 3
   },
   "file_extension": ".py",
   "mimetype": "text/x-python",
   "name": "python",
   "nbconvert_exporter": "python",
   "pygments_lexer": "ipython3",
   "version": "3.7.4"
  }
 },
 "nbformat": 4,
 "nbformat_minor": 2
}
