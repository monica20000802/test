{
 "cells": [
  {
   "cell_type": "code",
   "execution_count": 1,
   "metadata": {},
   "outputs": [],
   "source": [
    "%matplotlib inline\n",
    "\n",
    "import numpy as np\n",
    "import matplotlib.pyplot as plt"
   ]
  },
  {
   "cell_type": "code",
   "execution_count": 2,
   "metadata": {},
   "outputs": [],
   "source": [
    "import tensorflow as tf"
   ]
  },
  {
   "cell_type": "markdown",
   "metadata": {},
   "source": [
    "# 1.讀入 Fashion MNSIT 數據集"
   ]
  },
  {
   "cell_type": "code",
   "execution_count": 3,
   "metadata": {},
   "outputs": [],
   "source": [
    "from tensorflow.keras.datasets import fashion_mnist"
   ]
  },
  {
   "cell_type": "code",
   "execution_count": 5,
   "metadata": {},
   "outputs": [],
   "source": [
    "(x_train, y_train), (x_test, y_test) = fashion_mnist.load_data()"
   ]
  },
  {
   "cell_type": "markdown",
   "metadata": {},
   "source": [
    "# 2.欣賞數據集內容"
   ]
  },
  {
   "cell_type": "code",
   "execution_count": 6,
   "metadata": {},
   "outputs": [
    {
     "data": {
      "text/plain": [
       "60000"
      ]
     },
     "execution_count": 6,
     "metadata": {},
     "output_type": "execute_result"
    }
   ],
   "source": [
    "len(x_train)"
   ]
  },
  {
   "cell_type": "code",
   "execution_count": 7,
   "metadata": {},
   "outputs": [
    {
     "data": {
      "text/plain": [
       "10000"
      ]
     },
     "execution_count": 7,
     "metadata": {},
     "output_type": "execute_result"
    }
   ],
   "source": [
    "len(x_test)"
   ]
  },
  {
   "cell_type": "code",
   "execution_count": 8,
   "metadata": {},
   "outputs": [],
   "source": [
    "class_names = ['T-shirt/top', 'Trouser', 'Pullover', 'Dress', 'Coat', 'Sandal', 'Shirt', 'Sneaker', 'Bag', 'Ankle boot']"
   ]
  },
  {
   "cell_type": "code",
   "execution_count": 10,
   "metadata": {},
   "outputs": [
    {
     "name": "stdout",
     "output_type": "stream",
     "text": [
      "這是 Sneaker\n"
     ]
    },
    {
     "data": {
      "image/png": "[encoded data removed]",
      "text/plain": [
       "<Figure size 432x288 with 1 Axes>"
      ]
     },
     "metadata": {
      "needs_background": "light"
     },
     "output_type": "display_data"
    }
   ],
   "source": [
    "n = 5567\n",
    "print('這是', class_names[y_train[n]])\n",
    "plt.imshow(x_train[n], cmap='Greys');"
   ]
  },
  {
   "cell_type": "code",
   "execution_count": 11,
   "metadata": {},
   "outputs": [
    {
     "data": {
      "image/png": "[encoded data removed]",
      "text/plain": [
       "<Figure size 432x288 with 5 Axes>"
      ]
     },
     "metadata": {},
     "output_type": "display_data"
    }
   ],
   "source": [
    "pick = np.random.choice(60000, 5, replace=False)\n",
    "\n",
    "for i in range(5):\n",
    "    n = pick[i]\n",
    "    ax = plt.subplot(151+i)\n",
    "    ax.set_xticks([])\n",
    "    ax.set_yticks([])\n",
    "    ax.set_title(class_names[y_train[n]], fontsize=10)\n",
    "    plt.imshow(x_train[n], cmap='Greys')"
   ]
  },
  {
   "cell_type": "markdown",
   "metadata": {},
   "source": [
    "# 3.資料整理"
   ]
  },
  {
   "cell_type": "code",
   "execution_count": 13,
   "metadata": {},
   "outputs": [],
   "source": [
    "x_train=x_train/255\n",
    "x_test=x_test/255\n",
    "x_train=x_train.reshape(60000,784)\n",
    "x_test=x_test.reshape(10000,784)"
   ]
  },
  {
   "cell_type": "code",
   "execution_count": 14,
   "metadata": {},
   "outputs": [],
   "source": [
    "from tensorflow.keras.utils import to_categorical"
   ]
  },
  {
   "cell_type": "code",
   "execution_count": 15,
   "metadata": {},
   "outputs": [],
   "source": [
    "y_train=to_categorical(y_train,10)\n",
    "y_test=to_categorical(y_train,10)"
   ]
  },
  {
   "cell_type": "markdown",
   "metadata": {},
   "source": [
    "# 打造神經網路"
   ]
  },
  {
   "cell_type": "code",
   "execution_count": 16,
   "metadata": {},
   "outputs": [],
   "source": [
    "from tensorflow.keras.models import Sequential\n",
    "from tensorflow.keras.layers import Dense\n",
    "from tensorflow.keras.optimizers import SGD"
   ]
  },
  {
   "cell_type": "code",
   "execution_count": 40,
   "metadata": {},
   "outputs": [],
   "source": [
    "models=Sequential()\n",
    "models.add(Dense(100,input_dim=784,activation='relu'))\n",
    "models.add(Dense(100,activation='relu'))\n",
    "models.add(Dense(100,activation='relu'))\n",
    "models.add(Dense(10,activation='softmax'))"
   ]
  },
  {
   "cell_type": "markdown",
   "metadata": {},
   "source": [
    "# 4.組裝我們的神經網路"
   ]
  },
  {
   "cell_type": "code",
   "execution_count": 41,
   "metadata": {},
   "outputs": [],
   "source": [
    "models.compile(loss='mse',optimizer=SGD(lr=0.1),metrics=['accuracy'])"
   ]
  },
  {
   "cell_type": "code",
   "execution_count": 42,
   "metadata": {},
   "outputs": [
    {
     "name": "stdout",
     "output_type": "stream",
     "text": [
      "Model: \"sequential_5\"\n",
      "_________________________________________________________________\n",
      "Layer (type)                 Output Shape              Param #   \n",
      "=================================================================\n",
      "dense_15 (Dense)             (None, 100)               78500     \n",
      "_________________________________________________________________\n",
      "dense_16 (Dense)             (None, 100)               10100     \n",
      "_________________________________________________________________\n",
      "dense_17 (Dense)             (None, 100)               10100     \n",
      "_________________________________________________________________\n",
      "dense_18 (Dense)             (None, 10)                1010      \n",
      "=================================================================\n",
      "Total params: 99,710\n",
      "Trainable params: 99,710\n",
      "Non-trainable params: 0\n",
      "_________________________________________________________________\n"
     ]
    }
   ],
   "source": [
    "models.summary()"
   ]
  },
  {
   "cell_type": "markdown",
   "metadata": {},
   "source": [
    "# 5. 訓練"
   ]
  },
  {
   "cell_type": "code",
   "execution_count": 43,
   "metadata": {},
   "outputs": [
    {
     "name": "stdout",
     "output_type": "stream",
     "text": [
      "Train on 60000 samples\n",
      "Epoch 1/40\n",
      "60000/60000 [==============================] - 7s 124us/sample - loss: 0.0411 - accuracy: 0.7185\n",
      "Epoch 2/40\n",
      "60000/60000 [==============================] - 7s 116us/sample - loss: 0.0256 - accuracy: 0.8256 - loss: 0.0258 - \n",
      "Epoch 3/40\n",
      "60000/60000 [==============================] - 7s 118us/sample - loss: 0.0230 - accuracy: 0.8419\n",
      "Epoch 4/40\n",
      "60000/60000 [==============================] - 7s 121us/sample - loss: 0.0215 - accuracy: 0.8529\n",
      "Epoch 5/40\n",
      "60000/60000 [==============================] - 7s 115us/sample - loss: 0.0205 - accuracy: 0.8598\n",
      "Epoch 6/40\n",
      "60000/60000 [==============================] - 7s 111us/sample - loss: 0.0197 - accuracy: 0.8645\n",
      "Epoch 7/40\n",
      "60000/60000 [==============================] - 7s 110us/sample - loss: 0.0190 - accuracy: 0.8703\n",
      "Epoch 8/40\n",
      "60000/60000 [==============================] - 7s 111us/sample - loss: 0.0184 - accuracy: 0.8739\n",
      "Epoch 9/40\n",
      "60000/60000 [==============================] - 7s 111us/sample - loss: 0.0179 - accuracy: 0.8787\n",
      "Epoch 10/40\n",
      "60000/60000 [==============================] - 7s 121us/sample - loss: 0.0175 - accuracy: 0.8816\n",
      "Epoch 11/40\n",
      "60000/60000 [==============================] - 7s 125us/sample - loss: 0.0172 - accuracy: 0.8827\n",
      "Epoch 12/40\n",
      "60000/60000 [==============================] - 7s 116us/sample - loss: 0.0167 - accuracy: 0.8870\n",
      "Epoch 13/40\n",
      "60000/60000 [==============================] - 7s 120us/sample - loss: 0.0164 - accuracy: 0.8878\n",
      "Epoch 14/40\n",
      "60000/60000 [==============================] - 7s 117us/sample - loss: 0.0161 - accuracy: 0.8915\n",
      "Epoch 15/40\n",
      "60000/60000 [==============================] - 8s 130us/sample - loss: 0.0159 - accuracy: 0.8923\n",
      "Epoch 16/40\n",
      "60000/60000 [==============================] - 7s 120us/sample - loss: 0.0156 - accuracy: 0.8945\n",
      "Epoch 17/40\n",
      "60000/60000 [==============================] - 8s 129us/sample - loss: 0.0153 - accuracy: 0.8970\n",
      "Epoch 18/40\n",
      "60000/60000 [==============================] - 11s 186us/sample - loss: 0.0151 - accuracy: 0.8990\n",
      "Epoch 19/40\n",
      "60000/60000 [==============================] - 8s 130us/sample - loss: 0.0149 - accuracy: 0.9001\n",
      "Epoch 20/40\n",
      "60000/60000 [==============================] - 8s 134us/sample - loss: 0.0147 - accuracy: 0.9018\n",
      "Epoch 21/40\n",
      "60000/60000 [==============================] - 8s 141us/sample - loss: 0.0144 - accuracy: 0.9039\n",
      "Epoch 22/40\n",
      "60000/60000 [==============================] - 9s 151us/sample - loss: 0.0142 - accuracy: 0.9055\n",
      "Epoch 23/40\n",
      "60000/60000 [==============================] - 10s 167us/sample - loss: 0.0141 - accuracy: 0.9061\n",
      "Epoch 24/40\n",
      "60000/60000 [==============================] - 9s 153us/sample - loss: 0.0139 - accuracy: 0.9081\n",
      "Epoch 25/40\n",
      "60000/60000 [==============================] - 8s 141us/sample - loss: 0.0136 - accuracy: 0.9097\n",
      "Epoch 26/40\n",
      "60000/60000 [==============================] - 10s 163us/sample - loss: 0.0134 - accuracy: 0.9111\n",
      "Epoch 27/40\n",
      "60000/60000 [==============================] - 13s 219us/sample - loss: 0.0133 - accuracy: 0.9122\n",
      "Epoch 28/40\n",
      "60000/60000 [==============================] - 9s 151us/sample - loss: 0.0131 - accuracy: 0.9135\n",
      "Epoch 29/40\n",
      "60000/60000 [==============================] - 9s 151us/sample - loss: 0.0130 - accuracy: 0.9138\n",
      "Epoch 30/40\n",
      "60000/60000 [==============================] - 8s 134us/sample - loss: 0.0128 - accuracy: 0.9153\n",
      "Epoch 31/40\n",
      "60000/60000 [==============================] - 7s 123us/sample - loss: 0.0126 - accuracy: 0.9173\n",
      "Epoch 32/40\n",
      "60000/60000 [==============================] - 8s 129us/sample - loss: 0.0125 - accuracy: 0.9186\n",
      "Epoch 33/40\n",
      "60000/60000 [==============================] - ETA: 0s - loss: 0.0123 - accuracy: 0.91 - 9s 157us/sample - loss: 0.0123 - accuracy: 0.9198\n",
      "Epoch 34/40\n",
      "60000/60000 [==============================] - 9s 151us/sample - loss: 0.0122 - accuracy: 0.9201\n",
      "Epoch 35/40\n",
      "60000/60000 [==============================] - 8s 138us/sample - loss: 0.0121 - accuracy: 0.9204\n",
      "Epoch 36/40\n",
      "60000/60000 [==============================] - 8s 132us/sample - loss: 0.0119 - accuracy: 0.9224\n",
      "Epoch 37/40\n",
      "60000/60000 [==============================] - 8s 127us/sample - loss: 0.0117 - accuracy: 0.9245\n",
      "Epoch 38/40\n",
      "60000/60000 [==============================] - 8s 126us/sample - loss: 0.0117 - accuracy: 0.9244\n",
      "Epoch 39/40\n",
      "60000/60000 [==============================] - 8s 130us/sample - loss: 0.0115 - accuracy: 0.9253\n",
      "Epoch 40/40\n",
      "60000/60000 [==============================] - 9s 148us/sample - loss: 0.0114 - accuracy: 0.9260\n"
     ]
    },
    {
     "data": {
      "text/plain": [
       "<tensorflow.python.keras.callbacks.History at 0x1442fb490>"
      ]
     },
     "execution_count": 43,
     "metadata": {},
     "output_type": "execute_result"
    }
   ],
   "source": [
    "models.fit(x_train, y_train, batch_size=20, epochs=40)"
   ]
  },
  {
   "cell_type": "code",
   "execution_count": 45,
   "metadata": {},
   "outputs": [],
   "source": [
    "result = models.predict_classes(x_test)"
   ]
  },
  {
   "cell_type": "code",
   "execution_count": 50,
   "metadata": {},
   "outputs": [
    {
     "name": "stdout",
     "output_type": "stream",
     "text": [
      "這是 Sandal\n"
     ]
    },
    {
     "data": {
      "text/plain": [
       "<matplotlib.image.AxesImage at 0x144ae8ad0>"
      ]
     },
     "execution_count": 50,
     "metadata": {},
     "output_type": "execute_result"
    },
    {
     "data": {
      "image/png": "[encoded data removed]",
      "text/plain": [
       "<Figure size 432x288 with 1 Axes>"
      ]
     },
     "metadata": {
      "needs_background": "light"
     },
     "output_type": "display_data"
    }
   ],
   "source": [
    "n = 567\n",
    "print('這是', class_names[result[n]])\n",
    "plt.imshow(x_test[n].reshape(28,28), cmap='Greys')"
   ]
  },
  {
   "cell_type": "markdown",
   "metadata": {},
   "source": [
    "修改的地方："
   ]
  },
  {
   "cell_type": "code",
   "execution_count": 51,
   "metadata": {},
   "outputs": [],
   "source": [
    "#調整隱藏層數\n",
    "#調整神經元數\n",
    "# 調高learning rate\n",
    "# 調低batch_size\n",
    "# 調高epochs"
   ]
  },
  {
   "cell_type": "code",
   "execution_count": null,
   "metadata": {},
   "outputs": [],
   "source": []
  }
 ],
 "metadata": {
  "kernelspec": {
   "display_name": "Python 3",
   "language": "python",
   "name": "python3"
  },
  "language_info": {
   "codemirror_mode": {
    "name": "ipython",
    "version": 3
   },
   "file_extension": ".py",
   "mimetype": "text/x-python",
   "name": "python",
   "nbconvert_exporter": "python",
   "pygments_lexer": "ipython3",
   "version": "3.7.4"
  }
 },
 "nbformat": 4,
 "nbformat_minor": 2
}
