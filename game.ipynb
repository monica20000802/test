{
 "cells": [
  {
   "cell_type": "markdown",
   "metadata": {},
   "source": [
    "# 主題：遊戲人間"
   ]
  },
  {
   "cell_type": "markdown",
   "metadata": {},
   "source": [
    "## 組員名單\n",
    "107304001 統二 李宜隆<br>\n",
    "107304015 統二 黃揚軒<br>\n",
    "107304016 統二 高宏維<br>\n",
    "107207418 統二 黃莫涵<br>"
   ]
  },
  {
   "cell_type": "markdown",
   "metadata": {},
   "source": [
    "## 原主題介紹\n",
    "### 如果今天上市了一個新遊戲，還沒有相關的評價，可不可以由程式來評斷其遊玩分數?"
   ]
  },
  {
   "cell_type": "markdown",
   "metadata": {},
   "source": [
    "## 發想動機\n",
    "\n",
    "由於前陣子的防疫風波，大家變得必須以在室內活動為主，在室內玩遊戲就成了一個主要的休閒娛樂活動<br>\n",
    "除了很紅的動物森友會，還有什麼可以玩呢？如果我們對於遊戲不夠了解，很容易就會踩到地雷<br>\n",
    "所以我們想到是否可以透過遊戲的類別、公司、平台、銷售量來進行對遊戲評分的預測，試試看能否用深度學習達成這件事<br>"
   ]
  },
  {
   "cell_type": "markdown",
   "metadata": {},
   "source": [
    "## 資料搜集過程與困難"
   ]
  },
  {
   "cell_type": "markdown",
   "metadata": {},
   "source": [
    "我們原先的目標是：想要用遊戲的年份、平台、類型、公司及評分去預估它的全球銷售量(或平台、類型、公司、全球銷售量去預估評分)。<br>\n",
    "在Kaggle資料庫裡面，我們找到了一份包含遊戲的年份、平台、類型、公司的數據集(約16000多筆)，收錄了銷售量超過十萬以上的遊戲。而根據此數據集取得資料的原始網站，我們發現該網站有遊戲評分的資料(約55000多筆)。我們開始想辦法要取得評分的資料，然而每個組員都沒有學過爬蟲，於是開始了各方求助。過程中遇到了許多阻礙，就在一個禮拜後爬蟲的問題仍未被解決時，我們赫然發現該網站的評分資料，有效的評分(沒有缺漏的部分)只有6000多筆，更別提是和Kaggle數據集有重疊的遊戲的資料就更少了。<br>\n",
    "晴天霹靂之際，我們還是重振旗鼓，最後決定使用遊戲的平台、類型、公司去預測全球銷售量。<br>"
   ]
  },
  {
   "cell_type": "markdown",
   "metadata": {},
   "source": [
    "#### 網址：  [原始資料集](https://docs.google.com/spreadsheets/d/1rZimHYmkhrH-QYJxH-j2M6bI05N2fYNweTNbiaPKNm8/edit?usp=sharing)"
   ]
  },
  {
   "cell_type": "markdown",
   "metadata": {},
   "source": [
    "## 更改後主題\n",
    "### 如果今天上市了一個新遊戲，可不可以藉由其遊戲類別、遊戲公司及平台來預測遊戲的銷售額?"
   ]
  },
  {
   "cell_type": "markdown",
   "metadata": {},
   "source": [
    "## 事前資料處理\n",
    "\n",
    "我們將遊戲的平台(x1)、類型(x2)、發行公司(x3) 由文字編碼成數字取代，數字本身的大小並無特別意義，只純粹代表種類的區分。<br>\n",
    "在16596筆資料中，平台(x1)編碼成0-30，類型(x2)編碼成0-12，發行公司(x3)編碼成0-571。<br>\n",
    "全球銷售量(y)方面，我們依照銷售量的多寡編成0-10共11個等級，0-9級每級約有1600筆資料，第10級則是少數(約五十個)銷售量超過一千萬的遊戲。<br>"
   ]
  },
  {
   "cell_type": "markdown",
   "metadata": {},
   "source": [
    "#### 網址：[編碼](https://drive.google.com/file/d/1d68EgwYbqCgeFsXSJnyxNj0ZJgraon1v/view?usp=sharing)&nbsp; &nbsp;&nbsp;[x資料](https://drive.google.com/file/d/1gIZgMQKk94BpCGx49FPzBB8iNwsJ8L_b/view?usp=sharing)&nbsp; &nbsp;&nbsp;[y資料](https://drive.google.com/file/d/10oUibj0GK14u6lQix0fwFxSf779L7d6F/view?usp=sharing) "
   ]
  },
  {
   "cell_type": "markdown",
   "metadata": {},
   "source": [
    "## 開始寫模型"
   ]
  },
  {
   "cell_type": "code",
   "execution_count": 1,
   "metadata": {},
   "outputs": [],
   "source": [
    "%matplotlib inline\n",
    "import numpy as np\n",
    "import matplotlib.pyplot as plt\n",
    "import pandas as pd\n",
    "import tensorflow as tf"
   ]
  },
  {
   "cell_type": "markdown",
   "metadata": {},
   "source": [
    "## 資料讀入、整理、檢查"
   ]
  },
  {
   "cell_type": "code",
   "execution_count": 2,
   "metadata": {},
   "outputs": [],
   "source": [
    "from tensorflow.keras.utils import to_categorical"
   ]
  },
  {
   "cell_type": "code",
   "execution_count": 3,
   "metadata": {},
   "outputs": [],
   "source": [
    "df=pd.read_excel(\"x.xlsx\")  #用pandas讀取名為x的excel檔並存成dataframe"
   ]
  },
  {
   "cell_type": "code",
   "execution_count": 4,
   "metadata": {},
   "outputs": [
    {
     "data": {
      "text/html": [
       "<div>\n",
       "<style scoped>\n",
       "    .dataframe tbody tr th:only-of-type {\n",
       "        vertical-align: middle;\n",
       "    }\n",
       "\n",
       "    .dataframe tbody tr th {\n",
       "        vertical-align: top;\n",
       "    }\n",
       "\n",
       "    .dataframe thead th {\n",
       "        text-align: right;\n",
       "    }\n",
       "</style>\n",
       "<table border=\"1\" class=\"dataframe\">\n",
       "  <thead>\n",
       "    <tr style=\"text-align: right;\">\n",
       "      <th></th>\n",
       "      <th>Platform</th>\n",
       "      <th>Genre</th>\n",
       "      <th>Publisher</th>\n",
       "    </tr>\n",
       "  </thead>\n",
       "  <tbody>\n",
       "    <tr>\n",
       "      <td>0</td>\n",
       "      <td>7</td>\n",
       "      <td>11</td>\n",
       "      <td>326</td>\n",
       "    </tr>\n",
       "    <tr>\n",
       "      <td>1</td>\n",
       "      <td>7</td>\n",
       "      <td>4</td>\n",
       "      <td>26</td>\n",
       "    </tr>\n",
       "    <tr>\n",
       "      <td>2</td>\n",
       "      <td>7</td>\n",
       "      <td>4</td>\n",
       "      <td>26</td>\n",
       "    </tr>\n",
       "    <tr>\n",
       "      <td>3</td>\n",
       "      <td>7</td>\n",
       "      <td>4</td>\n",
       "      <td>26</td>\n",
       "    </tr>\n",
       "    <tr>\n",
       "      <td>4</td>\n",
       "      <td>7</td>\n",
       "      <td>4</td>\n",
       "      <td>26</td>\n",
       "    </tr>\n",
       "    <tr>\n",
       "      <td>...</td>\n",
       "      <td>...</td>\n",
       "      <td>...</td>\n",
       "      <td>...</td>\n",
       "    </tr>\n",
       "    <tr>\n",
       "      <td>16591</td>\n",
       "      <td>1</td>\n",
       "      <td>6</td>\n",
       "      <td>34</td>\n",
       "    </tr>\n",
       "    <tr>\n",
       "      <td>16592</td>\n",
       "      <td>17</td>\n",
       "      <td>6</td>\n",
       "      <td>34</td>\n",
       "    </tr>\n",
       "    <tr>\n",
       "      <td>16593</td>\n",
       "      <td>16</td>\n",
       "      <td>10</td>\n",
       "      <td>548</td>\n",
       "    </tr>\n",
       "    <tr>\n",
       "      <td>16594</td>\n",
       "      <td>22</td>\n",
       "      <td>12</td>\n",
       "      <td>326</td>\n",
       "    </tr>\n",
       "    <tr>\n",
       "      <td>16595</td>\n",
       "      <td>4</td>\n",
       "      <td>2</td>\n",
       "      <td>13</td>\n",
       "    </tr>\n",
       "  </tbody>\n",
       "</table>\n",
       "<p>16596 rows × 3 columns</p>\n",
       "</div>"
      ],
      "text/plain": [
       "       Platform  Genre  Publisher\n",
       "0             7     11        326\n",
       "1             7      4         26\n",
       "2             7      4         26\n",
       "3             7      4         26\n",
       "4             7      4         26\n",
       "...         ...    ...        ...\n",
       "16591         1      6         34\n",
       "16592        17      6         34\n",
       "16593        16     10        548\n",
       "16594        22     12        326\n",
       "16595         4      2         13\n",
       "\n",
       "[16596 rows x 3 columns]"
      ]
     },
     "execution_count": 4,
     "metadata": {},
     "output_type": "execute_result"
    }
   ],
   "source": [
    "df  #欣賞內容"
   ]
  },
  {
   "cell_type": "code",
   "execution_count": 6,
   "metadata": {},
   "outputs": [],
   "source": [
    "x1 = df.Platform   #取出x.xlsx檔中Platform(平台)那欄作為變數x1，Genre(類型)那欄作為變數x2，Publisher(發行公司)那欄作為變數x3\n",
    "x2 = df.Genre   \n",
    "x3 = df.Publisher"
   ]
  },
  {
   "cell_type": "code",
   "execution_count": 7,
   "metadata": {},
   "outputs": [
    {
     "data": {
      "text/plain": [
       "(7, 4, 26)"
      ]
     },
     "execution_count": 7,
     "metadata": {},
     "output_type": "execute_result"
    }
   ],
   "source": [
    "x1[1], x2[1], x3[1]"
   ]
  },
  {
   "cell_type": "code",
   "execution_count": 8,
   "metadata": {},
   "outputs": [],
   "source": [
    "x1 = to_categorical(x1, 31)    #把數字做One-Hot Encoding，x1分0-30 共31類，x2分0-12 共13類，x3分0-571 共572類\n",
    "x2 = to_categorical(x2, 13)   \n",
    "x3 = to_categorical(x3, 572)  "
   ]
  },
  {
   "cell_type": "code",
   "execution_count": 9,
   "metadata": {},
   "outputs": [
    {
     "data": {
      "text/plain": [
       "(array([0., 0., 0., 0., 0., 0., 0., 1., 0., 0., 0., 0., 0., 0., 0., 0., 0.,\n",
       "        0., 0., 0., 0., 0., 0., 0., 0., 0., 0., 0., 0., 0., 0.],\n",
       "       dtype=float32),\n",
       " array([0., 0., 0., 0., 1., 0., 0., 0., 0., 0., 0., 0., 0.], dtype=float32),\n",
       " array([0., 0., 0., 0., 0., 0., 0., 0., 0., 0., 0., 0., 0., 0., 0., 0., 0.,\n",
       "        0., 0., 0., 0., 0., 0., 0., 0., 0., 1., 0., 0., 0., 0., 0., 0., 0.,\n",
       "        0., 0., 0., 0., 0., 0., 0., 0., 0., 0., 0., 0., 0., 0., 0., 0., 0.,\n",
       "        0., 0., 0., 0., 0., 0., 0., 0., 0., 0., 0., 0., 0., 0., 0., 0., 0.,\n",
       "        0., 0., 0., 0., 0., 0., 0., 0., 0., 0., 0., 0., 0., 0., 0., 0., 0.,\n",
       "        0., 0., 0., 0., 0., 0., 0., 0., 0., 0., 0., 0., 0., 0., 0., 0., 0.,\n",
       "        0., 0., 0., 0., 0., 0., 0., 0., 0., 0., 0., 0., 0., 0., 0., 0., 0.,\n",
       "        0., 0., 0., 0., 0., 0., 0., 0., 0., 0., 0., 0., 0., 0., 0., 0., 0.,\n",
       "        0., 0., 0., 0., 0., 0., 0., 0., 0., 0., 0., 0., 0., 0., 0., 0., 0.,\n",
       "        0., 0., 0., 0., 0., 0., 0., 0., 0., 0., 0., 0., 0., 0., 0., 0., 0.,\n",
       "        0., 0., 0., 0., 0., 0., 0., 0., 0., 0., 0., 0., 0., 0., 0., 0., 0.,\n",
       "        0., 0., 0., 0., 0., 0., 0., 0., 0., 0., 0., 0., 0., 0., 0., 0., 0.,\n",
       "        0., 0., 0., 0., 0., 0., 0., 0., 0., 0., 0., 0., 0., 0., 0., 0., 0.,\n",
       "        0., 0., 0., 0., 0., 0., 0., 0., 0., 0., 0., 0., 0., 0., 0., 0., 0.,\n",
       "        0., 0., 0., 0., 0., 0., 0., 0., 0., 0., 0., 0., 0., 0., 0., 0., 0.,\n",
       "        0., 0., 0., 0., 0., 0., 0., 0., 0., 0., 0., 0., 0., 0., 0., 0., 0.,\n",
       "        0., 0., 0., 0., 0., 0., 0., 0., 0., 0., 0., 0., 0., 0., 0., 0., 0.,\n",
       "        0., 0., 0., 0., 0., 0., 0., 0., 0., 0., 0., 0., 0., 0., 0., 0., 0.,\n",
       "        0., 0., 0., 0., 0., 0., 0., 0., 0., 0., 0., 0., 0., 0., 0., 0., 0.,\n",
       "        0., 0., 0., 0., 0., 0., 0., 0., 0., 0., 0., 0., 0., 0., 0., 0., 0.,\n",
       "        0., 0., 0., 0., 0., 0., 0., 0., 0., 0., 0., 0., 0., 0., 0., 0., 0.,\n",
       "        0., 0., 0., 0., 0., 0., 0., 0., 0., 0., 0., 0., 0., 0., 0., 0., 0.,\n",
       "        0., 0., 0., 0., 0., 0., 0., 0., 0., 0., 0., 0., 0., 0., 0., 0., 0.,\n",
       "        0., 0., 0., 0., 0., 0., 0., 0., 0., 0., 0., 0., 0., 0., 0., 0., 0.,\n",
       "        0., 0., 0., 0., 0., 0., 0., 0., 0., 0., 0., 0., 0., 0., 0., 0., 0.,\n",
       "        0., 0., 0., 0., 0., 0., 0., 0., 0., 0., 0., 0., 0., 0., 0., 0., 0.,\n",
       "        0., 0., 0., 0., 0., 0., 0., 0., 0., 0., 0., 0., 0., 0., 0., 0., 0.,\n",
       "        0., 0., 0., 0., 0., 0., 0., 0., 0., 0., 0., 0., 0., 0., 0., 0., 0.,\n",
       "        0., 0., 0., 0., 0., 0., 0., 0., 0., 0., 0., 0., 0., 0., 0., 0., 0.,\n",
       "        0., 0., 0., 0., 0., 0., 0., 0., 0., 0., 0., 0., 0., 0., 0., 0., 0.,\n",
       "        0., 0., 0., 0., 0., 0., 0., 0., 0., 0., 0., 0., 0., 0., 0., 0., 0.,\n",
       "        0., 0., 0., 0., 0., 0., 0., 0., 0., 0., 0., 0., 0., 0., 0., 0., 0.,\n",
       "        0., 0., 0., 0., 0., 0., 0., 0., 0., 0., 0., 0., 0., 0., 0., 0., 0.,\n",
       "        0., 0., 0., 0., 0., 0., 0., 0., 0., 0., 0.], dtype=float32))"
      ]
     },
     "execution_count": 9,
     "metadata": {},
     "output_type": "execute_result"
    }
   ],
   "source": [
    "x1[1], x2[1], x3[1]   #檢查是否轉換成功"
   ]
  },
  {
   "cell_type": "code",
   "execution_count": 10,
   "metadata": {},
   "outputs": [],
   "source": [
    " x=np.concatenate((x1,x2,x3 ), axis=1)  #合併3陣列，命名x"
   ]
  },
  {
   "cell_type": "code",
   "execution_count": 11,
   "metadata": {},
   "outputs": [
    {
     "data": {
      "text/plain": [
       "(16596, 616)"
      ]
     },
     "execution_count": 11,
     "metadata": {},
     "output_type": "execute_result"
    }
   ],
   "source": [
    "x.shape   #檢查合併完x個數仍為16596個， 維度變為31+13+572=616"
   ]
  },
  {
   "cell_type": "code",
   "execution_count": 12,
   "metadata": {},
   "outputs": [],
   "source": [
    "df2=pd.read_excel(\"y(0-10).xlsx\")  #用pandas讀取名為y(0-10)的excel檔並存成dataframe"
   ]
  },
  {
   "cell_type": "code",
   "execution_count": 13,
   "metadata": {},
   "outputs": [
    {
     "data": {
      "text/html": [
       "<div>\n",
       "<style scoped>\n",
       "    .dataframe tbody tr th:only-of-type {\n",
       "        vertical-align: middle;\n",
       "    }\n",
       "\n",
       "    .dataframe tbody tr th {\n",
       "        vertical-align: top;\n",
       "    }\n",
       "\n",
       "    .dataframe thead th {\n",
       "        text-align: right;\n",
       "    }\n",
       "</style>\n",
       "<table border=\"1\" class=\"dataframe\">\n",
       "  <thead>\n",
       "    <tr style=\"text-align: right;\">\n",
       "      <th></th>\n",
       "      <th>Global_Sales</th>\n",
       "    </tr>\n",
       "  </thead>\n",
       "  <tbody>\n",
       "    <tr>\n",
       "      <td>0</td>\n",
       "      <td>8</td>\n",
       "    </tr>\n",
       "    <tr>\n",
       "      <td>1</td>\n",
       "      <td>4</td>\n",
       "    </tr>\n",
       "    <tr>\n",
       "      <td>2</td>\n",
       "      <td>5</td>\n",
       "    </tr>\n",
       "    <tr>\n",
       "      <td>3</td>\n",
       "      <td>4</td>\n",
       "    </tr>\n",
       "    <tr>\n",
       "      <td>4</td>\n",
       "      <td>4</td>\n",
       "    </tr>\n",
       "    <tr>\n",
       "      <td>...</td>\n",
       "      <td>...</td>\n",
       "    </tr>\n",
       "    <tr>\n",
       "      <td>16591</td>\n",
       "      <td>6</td>\n",
       "    </tr>\n",
       "    <tr>\n",
       "      <td>16592</td>\n",
       "      <td>5</td>\n",
       "    </tr>\n",
       "    <tr>\n",
       "      <td>16593</td>\n",
       "      <td>0</td>\n",
       "    </tr>\n",
       "    <tr>\n",
       "      <td>16594</td>\n",
       "      <td>2</td>\n",
       "    </tr>\n",
       "    <tr>\n",
       "      <td>16595</td>\n",
       "      <td>4</td>\n",
       "    </tr>\n",
       "  </tbody>\n",
       "</table>\n",
       "<p>16596 rows × 1 columns</p>\n",
       "</div>"
      ],
      "text/plain": [
       "       Global_Sales\n",
       "0                 8\n",
       "1                 4\n",
       "2                 5\n",
       "3                 4\n",
       "4                 4\n",
       "...             ...\n",
       "16591             6\n",
       "16592             5\n",
       "16593             0\n",
       "16594             2\n",
       "16595             4\n",
       "\n",
       "[16596 rows x 1 columns]"
      ]
     },
     "execution_count": 13,
     "metadata": {},
     "output_type": "execute_result"
    }
   ],
   "source": [
    "df2 #欣賞內容"
   ]
  },
  {
   "cell_type": "code",
   "execution_count": 14,
   "metadata": {},
   "outputs": [],
   "source": [
    "y=df2.values #把 Dataframe 轉成 2D numpy array"
   ]
  },
  {
   "cell_type": "code",
   "execution_count": 15,
   "metadata": {},
   "outputs": [
    {
     "data": {
      "text/plain": [
       "array([8])"
      ]
     },
     "execution_count": 15,
     "metadata": {},
     "output_type": "execute_result"
    }
   ],
   "source": [
    "y[0]"
   ]
  },
  {
   "cell_type": "code",
   "execution_count": 16,
   "metadata": {},
   "outputs": [],
   "source": [
    "y = to_categorical(y,11)   #把數字做One-Hot Encoding，分0-10級 共11類"
   ]
  },
  {
   "cell_type": "code",
   "execution_count": 17,
   "metadata": {},
   "outputs": [
    {
     "data": {
      "text/plain": [
       "array([0., 0., 0., 0., 0., 0., 0., 0., 1., 0., 0.], dtype=float32)"
      ]
     },
     "execution_count": 17,
     "metadata": {},
     "output_type": "execute_result"
    }
   ],
   "source": [
    "y[0]   #檢查是否轉換成功"
   ]
  },
  {
   "cell_type": "code",
   "execution_count": 18,
   "metadata": {},
   "outputs": [
    {
     "data": {
      "text/plain": [
       "(16596, 11)"
      ]
     },
     "execution_count": 18,
     "metadata": {},
     "output_type": "execute_result"
    }
   ],
   "source": [
    "y.shape   #檢查y個數為16596個， 維度為11"
   ]
  },
  {
   "cell_type": "code",
   "execution_count": 19,
   "metadata": {},
   "outputs": [],
   "source": [
    "x_train=x[0:13500]   #讓x,y16596筆資料當中，前13500筆作為訓練資料，後3096筆作為測試資料\n",
    "y_train=y[0:13500]\n",
    "x_test=x[13500:]\n",
    "y_test=y[13500:]"
   ]
  },
  {
   "cell_type": "markdown",
   "metadata": {},
   "source": [
    "## 打造神經網路"
   ]
  },
  {
   "cell_type": "code",
   "execution_count": 20,
   "metadata": {},
   "outputs": [],
   "source": [
    "from tensorflow.keras.models import Sequential\n",
    "from tensorflow.keras.layers import Dense\n",
    "from tensorflow.keras.optimizers import SGD"
   ]
  },
  {
   "cell_type": "code",
   "execution_count": 29,
   "metadata": {},
   "outputs": [],
   "source": [
    "models=Sequential()\n",
    "models.add(Dense(100,input_dim=616,activation='relu'))  #input維度是616\n",
    "models.add(Dense(11,activation='softmax')) #output結果要11類"
   ]
  },
  {
   "cell_type": "markdown",
   "metadata": {},
   "source": [
    "## 組裝我們的神經網路"
   ]
  },
  {
   "cell_type": "code",
   "execution_count": 30,
   "metadata": {},
   "outputs": [],
   "source": [
    "models.compile(loss='mse',optimizer=SGD(lr=0.87),metrics=['accuracy'])"
   ]
  },
  {
   "cell_type": "code",
   "execution_count": 31,
   "metadata": {},
   "outputs": [
    {
     "name": "stdout",
     "output_type": "stream",
     "text": [
      "Model: \"sequential_2\"\n",
      "_________________________________________________________________\n",
      "Layer (type)                 Output Shape              Param #   \n",
      "=================================================================\n",
      "dense_4 (Dense)              (None, 100)               61700     \n",
      "_________________________________________________________________\n",
      "dense_5 (Dense)              (None, 11)                1111      \n",
      "=================================================================\n",
      "Total params: 62,811\n",
      "Trainable params: 62,811\n",
      "Non-trainable params: 0\n",
      "_________________________________________________________________\n"
     ]
    }
   ],
   "source": [
    "models.summary()"
   ]
  },
  {
   "cell_type": "markdown",
   "metadata": {},
   "source": [
    "## 訓練"
   ]
  },
  {
   "cell_type": "code",
   "execution_count": 32,
   "metadata": {},
   "outputs": [
    {
     "name": "stdout",
     "output_type": "stream",
     "text": [
      "Train on 13500 samples\n",
      "Epoch 1/10\n",
      "13500/13500 [==============================] - 3s 214us/sample - loss: 0.0817 - accuracy: 0.1427\n",
      "Epoch 2/10\n",
      "13500/13500 [==============================] - 2s 178us/sample - loss: 0.0803 - accuracy: 0.1770\n",
      "Epoch 3/10\n",
      "13500/13500 [==============================] - 2s 173us/sample - loss: 0.0791 - accuracy: 0.1873\n",
      "Epoch 4/10\n",
      "13500/13500 [==============================] - 3s 186us/sample - loss: 0.0784 - accuracy: 0.1987\n",
      "Epoch 5/10\n",
      "13500/13500 [==============================] - 3s 189us/sample - loss: 0.0780 - accuracy: 0.2103\n",
      "Epoch 6/10\n",
      "13500/13500 [==============================] - 3s 189us/sample - loss: 0.0777 - accuracy: 0.2130\n",
      "Epoch 7/10\n",
      "13500/13500 [==============================] - 2s 177us/sample - loss: 0.0775 - accuracy: 0.2233\n",
      "Epoch 8/10\n",
      "13500/13500 [==============================] - 3s 215us/sample - loss: 0.0773 - accuracy: 0.2282\n",
      "Epoch 9/10\n",
      "13500/13500 [==============================] - 3s 204us/sample - loss: 0.0771 - accuracy: 0.2291\n",
      "Epoch 10/10\n",
      "13500/13500 [==============================] - 3s 201us/sample - loss: 0.0769 - accuracy: 0.2348\n"
     ]
    },
    {
     "data": {
      "text/plain": [
       "<tensorflow.python.keras.callbacks.History at 0x111532ed0>"
      ]
     },
     "execution_count": 32,
     "metadata": {},
     "output_type": "execute_result"
    }
   ],
   "source": [
    "models.fit(x_train,y_train,batch_size=10,epochs=10)"
   ]
  },
  {
   "cell_type": "code",
   "execution_count": 33,
   "metadata": {},
   "outputs": [
    {
     "name": "stdout",
     "output_type": "stream",
     "text": [
      "Train on 13500 samples\n",
      "Epoch 1/20\n",
      "13500/13500 [==============================] - 2s 163us/sample - loss: 0.0767 - accuracy: 0.2400\n",
      "Epoch 2/20\n",
      "13500/13500 [==============================] - 2s 119us/sample - loss: 0.0766 - accuracy: 0.2436\n",
      "Epoch 3/20\n",
      "13500/13500 [==============================] - 2s 126us/sample - loss: 0.0765 - accuracy: 0.2442\n",
      "Epoch 4/20\n",
      "13500/13500 [==============================] - 2s 124us/sample - loss: 0.0764 - accuracy: 0.2467\n",
      "Epoch 5/20\n",
      "13500/13500 [==============================] - 2s 154us/sample - loss: 0.0764 - accuracy: 0.2468\n",
      "Epoch 6/20\n",
      "13500/13500 [==============================] - 2s 148us/sample - loss: 0.0762 - accuracy: 0.2510\n",
      "Epoch 7/20\n",
      "13500/13500 [==============================] - 3s 219us/sample - loss: 0.0762 - accuracy: 0.2496\n",
      "Epoch 8/20\n",
      "13500/13500 [==============================] - 2s 169us/sample - loss: 0.0761 - accuracy: 0.2522\n",
      "Epoch 9/20\n",
      "13500/13500 [==============================] - 2s 122us/sample - loss: 0.0760 - accuracy: 0.2542\n",
      "Epoch 10/20\n",
      "13500/13500 [==============================] - 2s 178us/sample - loss: 0.0759 - accuracy: 0.2556\n",
      "Epoch 11/20\n",
      "13500/13500 [==============================] - 2s 146us/sample - loss: 0.0758 - accuracy: 0.2569\n",
      "Epoch 12/20\n",
      "13500/13500 [==============================] - 2s 177us/sample - loss: 0.0757 - accuracy: 0.2611\n",
      "Epoch 13/20\n",
      "13500/13500 [==============================] - 2s 165us/sample - loss: 0.0757 - accuracy: 0.2610\n",
      "Epoch 14/20\n",
      "13500/13500 [==============================] - 2s 161us/sample - loss: 0.0756 - accuracy: 0.2632\n",
      "Epoch 15/20\n",
      "13500/13500 [==============================] - 3s 188us/sample - loss: 0.0755 - accuracy: 0.2666\n",
      "Epoch 16/20\n",
      "13500/13500 [==============================] - 2s 153us/sample - loss: 0.0754 - accuracy: 0.2664\n",
      "Epoch 17/20\n",
      "13500/13500 [==============================] - 2s 146us/sample - loss: 0.0753 - accuracy: 0.2678\n",
      "Epoch 18/20\n",
      "13500/13500 [==============================] - 2s 158us/sample - loss: 0.0752 - accuracy: 0.2684\n",
      "Epoch 19/20\n",
      "13500/13500 [==============================] - 2s 138us/sample - loss: 0.0751 - accuracy: 0.2727\n",
      "Epoch 20/20\n",
      "13500/13500 [==============================] - 2s 127us/sample - loss: 0.0751 - accuracy: 0.2751\n"
     ]
    },
    {
     "data": {
      "text/plain": [
       "<tensorflow.python.keras.callbacks.History at 0x14611a350>"
      ]
     },
     "execution_count": 33,
     "metadata": {},
     "output_type": "execute_result"
    }
   ],
   "source": [
    "models.fit(x_train,y_train,batch_size=15,epochs=20)"
   ]
  },
  {
   "cell_type": "code",
   "execution_count": 34,
   "metadata": {},
   "outputs": [
    {
     "name": "stdout",
     "output_type": "stream",
     "text": [
      "Train on 13500 samples\n",
      "Epoch 1/30\n",
      "13500/13500 [==============================] - 6s 435us/sample - loss: 0.0755 - accuracy: 0.2621\n",
      "Epoch 2/30\n",
      "13500/13500 [==============================] - 5s 365us/sample - loss: 0.0753 - accuracy: 0.2692\n",
      "Epoch 3/30\n",
      "13500/13500 [==============================] - 5s 363us/sample - loss: 0.0750 - accuracy: 0.2743\n",
      "Epoch 4/30\n",
      "13500/13500 [==============================] - 5s 352us/sample - loss: 0.0748 - accuracy: 0.2792\n",
      "Epoch 5/30\n",
      "13500/13500 [==============================] - 5s 345us/sample - loss: 0.0746 - accuracy: 0.2809\n",
      "Epoch 6/30\n",
      "13500/13500 [==============================] - 5s 347us/sample - loss: 0.0743 - accuracy: 0.2911 - los\n",
      "Epoch 7/30\n",
      "13500/13500 [==============================] - 5s 363us/sample - loss: 0.0741 - accuracy: 0.2924\n",
      "Epoch 8/30\n",
      "13500/13500 [==============================] - 5s 381us/sample - loss: 0.0739 - accuracy: 0.2953\n",
      "Epoch 9/30\n",
      "13500/13500 [==============================] - 5s 369us/sample - loss: 0.0737 - accuracy: 0.2961\n",
      "Epoch 10/30\n",
      "13500/13500 [==============================] - 5s 366us/sample - loss: 0.0734 - accuracy: 0.2985\n",
      "Epoch 11/30\n",
      "13500/13500 [==============================] - 5s 359us/sample - loss: 0.0732 - accuracy: 0.3056 - loss: 0.0731 - \n",
      "Epoch 12/30\n",
      "13500/13500 [==============================] - 5s 365us/sample - loss: 0.0730 - accuracy: 0.3090\n",
      "Epoch 13/30\n",
      "13500/13500 [==============================] - 5s 364us/sample - loss: 0.0727 - accuracy: 0.3136\n",
      "Epoch 14/30\n",
      "13500/13500 [==============================] - 5s 371us/sample - loss: 0.0725 - accuracy: 0.3158\n",
      "Epoch 15/30\n",
      "13500/13500 [==============================] - 6s 410us/sample - loss: 0.0722 - accuracy: 0.3204\n",
      "Epoch 16/30\n",
      "13500/13500 [==============================] - 6s 432us/sample - loss: 0.0720 - accuracy: 0.3219\n",
      "Epoch 17/30\n",
      "13500/13500 [==============================] - 5s 401us/sample - loss: 0.0717 - accuracy: 0.3256\n",
      "Epoch 18/30\n",
      "13500/13500 [==============================] - 6s 428us/sample - loss: 0.0715 - accuracy: 0.3328\n",
      "Epoch 19/30\n",
      "13500/13500 [==============================] - 6s 472us/sample - loss: 0.0713 - accuracy: 0.3316\n",
      "Epoch 20/30\n",
      "13500/13500 [==============================] - 6s 441us/sample - loss: 0.0710 - accuracy: 0.3392\n",
      "Epoch 21/30\n",
      "13500/13500 [==============================] - 6s 477us/sample - loss: 0.0708 - accuracy: 0.3401 - loss: 0.0707 - accuracy: 0.34 - ETA: 0s - loss: 0\n",
      "Epoch 22/30\n",
      "13500/13500 [==============================] - 7s 554us/sample - loss: 0.0706 - accuracy: 0.3453\n",
      "Epoch 23/30\n",
      "13500/13500 [==============================] - 6s 466us/sample - loss: 0.0704 - accuracy: 0.3433\n",
      "Epoch 24/30\n",
      "13500/13500 [==============================] - 6s 451us/sample - loss: 0.0702 - accuracy: 0.3484\n",
      "Epoch 25/30\n",
      "13500/13500 [==============================] - 6s 417us/sample - loss: 0.0699 - accuracy: 0.3526\n",
      "Epoch 26/30\n",
      "13500/13500 [==============================] - 5s 366us/sample - loss: 0.0697 - accuracy: 0.3519\n",
      "Epoch 27/30\n",
      "13500/13500 [==============================] - 5s 366us/sample - loss: 0.0695 - accuracy: 0.3580\n",
      "Epoch 28/30\n",
      "13500/13500 [==============================] - 5s 366us/sample - loss: 0.0694 - accuracy: 0.3592\n",
      "Epoch 29/30\n",
      "13500/13500 [==============================] - 5s 355us/sample - loss: 0.0692 - accuracy: 0.3618\n",
      "Epoch 30/30\n",
      "13500/13500 [==============================] - 5s 372us/sample - loss: 0.0689 - accuracy: 0.3618\n"
     ]
    },
    {
     "data": {
      "text/plain": [
       "<tensorflow.python.keras.callbacks.History at 0x1461bfa90>"
      ]
     },
     "execution_count": 34,
     "metadata": {},
     "output_type": "execute_result"
    }
   ],
   "source": [
    "models.fit(x_train,y_train,batch_size=5,epochs=30)"
   ]
  },
  {
   "cell_type": "markdown",
   "metadata": {},
   "source": [
    "## 訓練成果"
   ]
  },
  {
   "cell_type": "code",
   "execution_count": 35,
   "metadata": {},
   "outputs": [
    {
     "name": "stdout",
     "output_type": "stream",
     "text": [
      "神經網路預測是: [9 8 1 ... 2 1 3]\n"
     ]
    }
   ],
   "source": [
    "result = models.predict_classes(x_test)\n",
    "print('神經網路預測是:', result)"
   ]
  },
  {
   "cell_type": "code",
   "execution_count": 36,
   "metadata": {},
   "outputs": [
    {
     "name": "stdout",
     "output_type": "stream",
     "text": [
      "3096/3096 [==============================] - 0s 76us/sample - loss: 0.0818 - accuracy: 0.2032\n"
     ]
    }
   ],
   "source": [
    "score = models.evaluate(x_test, y_test)"
   ]
  },
  {
   "cell_type": "code",
   "execution_count": 37,
   "metadata": {},
   "outputs": [
    {
     "name": "stdout",
     "output_type": "stream",
     "text": [
      "測試資料的正確率為 0.20316537\n"
     ]
    }
   ],
   "source": [
    "loss, acc = score\n",
    "print('測試資料的正確率為', acc)"
   ]
  },
  {
   "cell_type": "markdown",
   "metadata": {},
   "source": [
    "## 結論\n",
    "我們發現訓練資料在多次訓練後準確率才會提高一點，增加Dense層數反而會降低準確率，所以只用了輸入層與輸出層。<br>\n",
    "而測試資料的準確率並不高（只有0.2），代表機器並沒有真的把這些資料學好，表示單就遊戲平台、類型、發行公司沒有辦法很好的預測全球銷售量。<br>\n",
    "中間我們有一度考慮將北美銷售額作為輸入資料的變數，但想到全球銷售額是北美、歐洲、日本、其他國家銷售額的總和，用一個結果去預測一個結果並不是很妥當，所以最後還是沒有採用此作法。<br>\n",
    "這樣的結果或許代表我們放入的變數不夠多，抑或這些變數無法對銷售額進行準確預測，很遺憾沒能達成預期的結果，但還是很享受寫這次專案，找問題、解決問題的過程。"
   ]
  },
  {
   "cell_type": "markdown",
   "metadata": {},
   "source": [
    "## 實作心得\n",
    "黃莫涵：<br>\n",
    "因為爸爸是資訊工程師的原因，從小就耳濡目染一些人工智慧、深度學習的知識，只是從沒真正寫過這類的程式。這學期同時修了程式設計概論跟計算機程式設計，可以邊學深度學習邊補足我對python語法的不熟悉。在做期末專案的過程中，我花好長時間在資料處理上，刪減變數，給那些文字的資料編程數字碼，眼睛都快花掉了哈哈，但也學到一些excel好用的資料彙整功能。寫程式的部分，因為我們組都不是對深度學習特別熟悉，所以就是按照炎龍老師教的基本步驟一步一步去做，比較大的困難有兩個。一是我們原先將那些編好的數字直接讓機器學，結果正確率為0我們超級失望，後來才發現沒有順序性的東西機器學不來，於是給他編成one hot encoding後正確率終於有點起色，頓時超有成就感！二是正確率一直無法有效提升，但因刪減變數也不會讓機器學得更好，增加Dense層數準確率反而更低，試了很多次還是沒有起色。雖然沒有達到預期結果，但還是有付出心血從頭到尾完成一個專案的感覺，是個有趣的經驗，至少知道了遊戲銷售量與平台、類型、公司沒有絕對的關係，我想也許銷售量，跟經濟景氣也有關係吧！<br>\n",
    "<br>\n",
    "高宏維：<br>\n",
    "這個學期是第一次接觸和了解人工智慧這項技術，在此之前也沒有學過PYTHON，一切都是開學全部從0開始學習。雖然老師說，很歡迎沒有背景的同學一起來修，但是在資料收集的部分，如果沒有先備爬蟲這項技術，做起來其實挺困難的，就只能從現有的資料庫去做專案。我覺得負責我們這次爬蟲的同學們辛苦了，花了一個禮拜的時間去學習爬蟲，最後我們才發現要爬的資料其實不夠用來做訓練，真是有點失算，但是迫於時間壓力，我們也來不及尋覓更好的主題，所以便用原先資料庫裡有的資料，做我們所想到較為合理的訓練。雖說這次專案的經驗是令人心痛的，但還是學到不少東西，算是蠻特別的經驗。<br>\n",
    "<br>\n",
    "李宜隆：<br>\n",
    "主題決定好後，我被分到的工作為利用爬蟲爬取數據庫網站的遊戲評分資料，但我對爬蟲完全一竅不通，所以與組員一起去問會的人和自己慢慢摸索爬取不同分頁的方法，如迴圈、改網址，最後看起來程式碼是沒什麼問題的，但不知道為什麼那個網站前兩千筆資料不管怎麼分段都可以爬但只要一爬到2001筆之後的資料，程式就會出錯，可能是網站本身有一些機制我們不太清楚或其他問題，總之我們進度又一度卡住，結果在求助期間，我們卻發現那個網站的有效評分資料只有六千多筆其他五萬筆左右的資料都是N/A，沒辦法我們只好用剩餘的資料去做補救，雖然之前的爬蟲算是做了白工，但也讓我稍微了解爬蟲這項技術，也非常謝謝組員們的凱瑞，不管是做出補救的方法還是後面模型的建構都花了許多心思，你們真的辛苦了，謝謝你們！<br>\n",
    "<br>\n",
    "黃揚軒：<br>\n",
    "之前聽別人說python比較好入手，就來修修看炎龍老師的課程。雖然老師教得好上手，但我們自己在做報告的過程還是相當地辛苦，畢竟我們並沒有很深的基礎，要解決每一個問題都需要相當的時間跟心力，說實話是真的還蠻累的，但我也在這之中獲得了不少收穫，也對於怎麼樣形態的資料比較適合預測有了較具體的概念。<br>\n"
   ]
  },
  {
   "cell_type": "markdown",
   "metadata": {},
   "source": [
    "## 專案分工"
   ]
  },
  {
   "cell_type": "markdown",
   "metadata": {},
   "source": [
    "黃莫涵：將數據庫16000多筆資料重新編碼與整理、建構全連結神經網路模型與預測結果、調整模型錯誤之處、彙整及寫上註解。<br>\n",
    "高宏維：將數據庫16000多筆資料重新編碼與整理、爬蟲失敗後提出補救方案與重新整理可用資料、建構全連結神經網路模型。<br>\n",
    "黃揚軒：試著利用爬蟲獲取遊戲網站的遊戲評分資料(後因資料不足而放棄)、爬蟲失敗後提出補救方案與重新整理可用資料、建構全連結神經網路模型。<br>\n",
    "李宜隆：試著利用爬蟲獲取遊戲網站的遊戲評分資料(後因資料不足而放棄)、轉換資料為模型可用型態。<br>"
   ]
  },
  {
   "cell_type": "markdown",
   "metadata": {},
   "source": [
    "## 謝謝大家"
   ]
  },
  {
   "cell_type": "markdown",
   "metadata": {},
   "source": [
    "## 問題回覆"
   ]
  },
  {
   "cell_type": "markdown",
   "metadata": {},
   "source": [
    "### 1.請問模型訓練時是否發生over fitting的現象\n",
    "Overfitting是指模型過度訓練自己的訓練資料，使 in sample 的模型配適的非常好。而我們的狀況是，訊練多次後，雖然訓練資料的誤差有下降，但其準確率一直無法有效提升(目前只有0.36)，模型並沒有配適得很好，還不到overfitting的程度。若再繼續訓練下去，恐怕模型只會「記住」訓練資料而非從中「學習」規律，無法讓測試資料out sample也符合此模型，屆時就會發生overfitting了。<br>\n",
    "\n",
    "\n",
    "### 2.模型結果20%的情況下是否有考慮其他解決方法以提升準確率\n",
    "因模型測試結果只有0.2，我們考慮可能是變數多寡與模型複雜度的問題。有試過刪減變數、增加原始資料集中的year變數、把模型改得更複雜(而非只有輸入層與輸出層)，仍然無法讓正確率有效提升，甚至可能讓準確率更低。我們總結可能是資料集本身，遊戲平台、類型、公司、年份並不是影響遊戲銷售量的最關鍵因素。<br>\n",
    "\n",
    "### 3.請說明輸入資料為何使用one hot encoding\n",
    "我們原先是將那些整理好的數字編號直接讓機器學 ex:(7,14,326)，結果不管怎麼建模型，更改層數、activation、loss function等等，訓練資料的正確率都為0。後來發現這三個變數的編碼是沒有順序性的，這個遊戲發行公司編碼為1不代表他是最大的公司（並不是像銷售量y一樣，數字越大表示銷售額越好），這些沒有意義的數字機器學不來，於是給三個變數one hot encoding再concatenate後讓機器學習，訓練資料正確率終於有點起色。<br>"
   ]
  }
 ],
 "metadata": {
  "kernelspec": {
   "display_name": "Python 3",
   "language": "python",
   "name": "python3"
  },
  "language_info": {
   "codemirror_mode": {
    "name": "ipython",
    "version": 3
   },
   "file_extension": ".py",
   "mimetype": "text/x-python",
   "name": "python",
   "nbconvert_exporter": "python",
   "pygments_lexer": "ipython3",
   "version": "3.7.4"
  }
 },
 "nbformat": 4,
 "nbformat_minor": 2
}
