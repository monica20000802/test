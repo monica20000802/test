{
 "cells": [
  {
   "cell_type": "code",
   "execution_count": 1,
   "metadata": {},
   "outputs": [],
   "source": [
    "import matplotlib.pyplot as plt\n",
    "import numpy as np\n",
    "\n",
    "# Layers for FNN\n",
    "from tensorflow.keras.models import Sequential\n",
    "from tensorflow.keras.layers import Dense\n",
    "from tensorflow.keras.layers import Flatten\n",
    "\n",
    "# Layers for CNN\n",
    "from tensorflow.keras.layers import Conv2D, MaxPool2D, GlobalAveragePooling2D\n",
    "\n",
    "from tensorflow.keras.optimizers import SGD, Adam\n",
    "\n",
    "# For data preprocessing\n",
    "from tensorflow.keras import datasets\n",
    "from tensorflow.keras.utils import to_categorical"
   ]
  },
  {
   "cell_type": "code",
   "execution_count": 2,
   "metadata": {},
   "outputs": [],
   "source": [
    "# Load Fashine MNIST\n",
    "(X_train, y_train0), (X_test, y_test0) = datasets.fashion_mnist.load_data()\n",
    "\n",
    "# Reshape size\n",
    "X_train = X_train.reshape(-1, 28*28)\n",
    "X_test = X_test.reshape(-1, 28*28)\n",
    "\n",
    "# Normalize the range of featurs\n",
    "X_train = X_train / X_train.max()\n",
    "X_test = X_test / X_test.max()\n",
    "\n",
    "# One-hot encoding\n",
    "y_train = to_categorical(y_train0, 10)\n",
    "y_test = to_categorical(y_test0, 10)"
   ]
  },
  {
   "cell_type": "code",
   "execution_count": 3,
   "metadata": {},
   "outputs": [],
   "source": [
    "from tensorflow.keras.models import Model\n",
    "from tensorflow.keras.layers import Input\n",
    "from tensorflow.keras.layers import concatenate, add"
   ]
  },
  {
   "cell_type": "code",
   "execution_count": 24,
   "metadata": {},
   "outputs": [
    {
     "data": {
      "image/png": "[encoded data removed]",
      "text/plain": [
       "<IPython.core.display.Image object>"
      ]
     },
     "execution_count": 24,
     "metadata": {},
     "output_type": "execute_result"
    }
   ],
   "source": [
    "from IPython.display import Image\n",
    "Image(filename=\"image.png\")"
   ]
  },
  {
   "cell_type": "code",
   "execution_count": 18,
   "metadata": {},
   "outputs": [],
   "source": [
    "x = Input(shape=(784,))\n",
    "f_1 = Dense(200, activation='relu')\n",
    "f_2 = Dense(200, activation='relu')\n",
    "f_3 = Dense(300, activation='sigmoid')\n",
    "f_4 = Dense(150, activation='relu')\n",
    "f_5= Dense(200, activation='sigmoid')\n",
    "f_6= Dense(10, activation='softmax')"
   ]
  },
  {
   "cell_type": "code",
   "execution_count": 19,
   "metadata": {},
   "outputs": [],
   "source": [
    "h_1 = f_1(x)\n",
    "h_2 = f_2(h_1)\n",
    "h_3 = f_3(h_1)\n",
    "h_4 = f_4(h_2)\n",
    "h_5 = f_5(h_2)\n",
    "u = concatenate([h_3, h_4, h_5])\n",
    "y = f_6(u)"
   ]
  },
  {
   "cell_type": "code",
   "execution_count": 20,
   "metadata": {},
   "outputs": [
    {
     "name": "stdout",
     "output_type": "stream",
     "text": [
      "Model: \"model_2\"\n",
      "__________________________________________________________________________________________________\n",
      "Layer (type)                    Output Shape         Param #     Connected to                     \n",
      "==================================================================================================\n",
      "input_3 (InputLayer)            [(None, 784)]        0                                            \n",
      "__________________________________________________________________________________________________\n",
      "dense_13 (Dense)                (None, 200)          157000      input_3[0][0]                    \n",
      "__________________________________________________________________________________________________\n",
      "dense_14 (Dense)                (None, 200)          40200       dense_13[0][0]                   \n",
      "__________________________________________________________________________________________________\n",
      "dense_15 (Dense)                (None, 300)          60300       dense_13[0][0]                   \n",
      "__________________________________________________________________________________________________\n",
      "dense_16 (Dense)                (None, 150)          30150       dense_14[0][0]                   \n",
      "__________________________________________________________________________________________________\n",
      "dense_17 (Dense)                (None, 200)          40200       dense_14[0][0]                   \n",
      "__________________________________________________________________________________________________\n",
      "concatenate_2 (Concatenate)     (None, 650)          0           dense_15[0][0]                   \n",
      "                                                                 dense_16[0][0]                   \n",
      "                                                                 dense_17[0][0]                   \n",
      "__________________________________________________________________________________________________\n",
      "dense_18 (Dense)                (None, 10)           6510        concatenate_2[0][0]              \n",
      "==================================================================================================\n",
      "Total params: 334,360\n",
      "Trainable params: 334,360\n",
      "Non-trainable params: 0\n",
      "__________________________________________________________________________________________________\n"
     ]
    }
   ],
   "source": [
    "model = Model(x, y)\n",
    "model.summary()"
   ]
  },
  {
   "cell_type": "code",
   "execution_count": 21,
   "metadata": {},
   "outputs": [],
   "source": [
    "model.compile(loss='mse', optimizer=Adam(), metrics=['accuracy'])"
   ]
  },
  {
   "cell_type": "code",
   "execution_count": 22,
   "metadata": {},
   "outputs": [
    {
     "name": "stdout",
     "output_type": "stream",
     "text": [
      "Train on 60000 samples\n",
      "Epoch 1/10\n",
      "60000/60000 [==============================] - 5s 90us/sample - loss: 0.0288 - accuracy: 0.7967\n",
      "Epoch 2/10\n",
      "60000/60000 [==============================] - 3s 49us/sample - loss: 0.0205 - accuracy: 0.8594\n",
      "Epoch 3/10\n",
      "60000/60000 [==============================] - 3s 49us/sample - loss: 0.0186 - accuracy: 0.8712\n",
      "Epoch 4/10\n",
      "60000/60000 [==============================] - 3s 46us/sample - loss: 0.0169 - accuracy: 0.8842\n",
      "Epoch 5/10\n",
      "60000/60000 [==============================] - 3s 52us/sample - loss: 0.0164 - accuracy: 0.8882\n",
      "Epoch 6/10\n",
      "60000/60000 [==============================] - 5s 85us/sample - loss: 0.0155 - accuracy: 0.8948\n",
      "Epoch 7/10\n",
      "60000/60000 [==============================] - 3s 49us/sample - loss: 0.0148 - accuracy: 0.9004\n",
      "Epoch 8/10\n",
      "60000/60000 [==============================] - 3s 53us/sample - loss: 0.0144 - accuracy: 0.9032\n",
      "Epoch 9/10\n",
      "60000/60000 [==============================] - 5s 89us/sample - loss: 0.0139 - accuracy: 0.9056\n",
      "Epoch 10/10\n",
      "60000/60000 [==============================] - 3s 58us/sample - loss: 0.0135 - accuracy: 0.9087\n"
     ]
    },
    {
     "data": {
      "text/plain": [
       "<tensorflow.python.keras.callbacks.History at 0x145759550>"
      ]
     },
     "execution_count": 22,
     "metadata": {},
     "output_type": "execute_result"
    }
   ],
   "source": [
    "model.fit(X_train, y_train, batch_size=256, epochs=10)"
   ]
  },
  {
   "cell_type": "code",
   "execution_count": 23,
   "metadata": {
    "scrolled": true
   },
   "outputs": [
    {
     "name": "stdout",
     "output_type": "stream",
     "text": [
      "60000/60000 [==============================] - 2s 40us/sample - loss: 0.0131 - accuracy: 0.9122\n",
      "Loss: 0.013124245995034775\n",
      "準確率: 91.21833443641663\n"
     ]
    }
   ],
   "source": [
    "score = model.evaluate(X_train, y_train, batch_size=10000)\n",
    "print(f'Loss: {score[0]}')\n",
    "print(f'準確率: {score[1]*100}')"
   ]
  },
  {
   "cell_type": "code",
   "execution_count": null,
   "metadata": {},
   "outputs": [],
   "source": []
  }
 ],
 "metadata": {
  "kernelspec": {
   "display_name": "Python 3",
   "language": "python",
   "name": "python3"
  },
  "language_info": {
   "codemirror_mode": {
    "name": "ipython",
    "version": 3
   },
   "file_extension": ".py",
   "mimetype": "text/x-python",
   "name": "python",
   "nbconvert_exporter": "python",
   "pygments_lexer": "ipython3",
   "version": "3.7.4"
  }
 },
 "nbformat": 4,
 "nbformat_minor": 2
}
